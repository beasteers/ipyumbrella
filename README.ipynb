{
 "cells": [
  {
   "cell_type": "markdown",
   "metadata": {},
   "source": [
    "# ipyumbrella\n",
    "Improved ipywidgets for collections.\n",
    "\n",
    "Making widgets in Jupyter is super helpful and it unlocks a lot of potential. But I often find that they can be really cumbersome to work with and I'm constantly writing wrapper functions to capture output, add them to tabs, and set the title (using the child index..... ugh).\n",
    "\n",
    "This wraps much of that functionality up so that you can wrap a for loop without thinking and each iteration will output to a new tab, parsing the title from the iterable elements. YAY!"
   ]
  },
  {
   "cell_type": "code",
   "execution_count": 1,
   "metadata": {},
   "outputs": [],
   "source": [
    "N = 6\n",
    "def plot_something(i=0, n=N):\n",
    "    plt.plot([min(i, n/2), min(n - i, n/2)])\n",
    "    plt.ylim(0, n/2+1)\n",
    "    plt.title('i={}'.format(i))"
   ]
  },
  {
   "cell_type": "code",
   "execution_count": 2,
   "metadata": {},
   "outputs": [
    {
     "data": {
      "text/html": [
       "\n",
       "<style>\n",
       "    \n",
       ".output_scroll_disabled .output_scroll {\n",
       "      height: unset !important;\n",
       "  border-radius: unset !important;\n",
       "  -webkit-box-shadow: unset !important;\n",
       "  box-shadow: unset !important;\n",
       "}\n",
       "    \n",
       "</style>\n",
       "    "
      ],
      "text/plain": [
       "<IPython.core.display.HTML object>"
      ]
     },
     "metadata": {},
     "output_type": "display_data"
    },
    {
     "data": {
      "application/vnd.jupyter.widget-view+json": {
       "model_id": "f4a7bad368404f5a88f267cbaab172eb",
       "version_major": 2,
       "version_minor": 0
      },
      "text/plain": [
       "Carousel()"
      ]
     },
     "metadata": {},
     "output_type": "display_data"
    }
   ],
   "source": [
    "import ipyumbrella as uw\n",
    "import matplotlib.pyplot as plt\n",
    "\n",
    "\n",
    "for i in uw.Carousel().D.items(range(N)):\n",
    "    plot_something(i)"
   ]
  },
  {
   "cell_type": "markdown",
   "metadata": {},
   "source": [
    "## Install\n",
    "\n",
    "```bash\n",
    "pip install ipyumbrella\n",
    "```\n"
   ]
  },
  {
   "cell_type": "markdown",
   "metadata": {},
   "source": [
    "## Usage\n",
    "\n",
    "### Widgets\n",
    " - **Carousel**: sideways scrolling outputs\n",
    " - **Tabs**: same as ipywidgets\n",
    " - **Accordion**: same as ipywidgets\n",
    "\n",
    "All of the described methods work for all widgets here. So you can interchange any of the widgets in the example."
   ]
  },
  {
   "cell_type": "markdown",
   "metadata": {},
   "source": [
    "#### Convenient inline display\n",
    "I come from Javascript so I've grown quite accustomed to chaining. You can use either `.display()` or `.D` inline to display your widget before any items are added to it. This saves you from having to make a new line to store to a variable and a new line to display the widget.\n",
    "\n",
    "Displaying the widget before you start is essential for longer running tasks so you can see the progress as it's running."
   ]
  },
  {
   "cell_type": "code",
   "execution_count": 8,
   "metadata": {},
   "outputs": [
    {
     "data": {
      "application/vnd.jupyter.widget-view+json": {
       "model_id": "8834d5d2ff8c4b0daf24dd147a59a965",
       "version_major": 2,
       "version_minor": 0
      },
      "text/plain": [
       "Carousel()"
      ]
     },
     "metadata": {},
     "output_type": "display_data"
    },
    {
     "data": {
      "application/vnd.jupyter.widget-view+json": {
       "model_id": "8834d5d2ff8c4b0daf24dd147a59a965",
       "version_major": 2,
       "version_minor": 0
      },
      "text/plain": [
       "Carousel(children=(Output(layout=Layout(flex='1 0 auto'), _dom_classes=('output_scroll_disabled',)),))"
      ]
     },
     "metadata": {},
     "output_type": "display_data"
    },
    {
     "data": {
      "application/vnd.jupyter.widget-view+json": {
       "model_id": "8834d5d2ff8c4b0daf24dd147a59a965",
       "version_major": 2,
       "version_minor": 0
      },
      "text/plain": [
       "Carousel(children=(Output(layout=Layout(flex='1 0 auto'), _dom_classes=('output_scroll_disabled',)),))"
      ]
     },
     "metadata": {},
     "output_type": "display_data"
    },
    {
     "data": {
      "application/vnd.jupyter.widget-view+json": {
       "model_id": "8834d5d2ff8c4b0daf24dd147a59a965",
       "version_major": 2,
       "version_minor": 0
      },
      "text/plain": [
       "Carousel(children=(Output(layout=Layout(flex='1 0 auto'), _dom_classes=('output_scroll_disabled',)),))"
      ]
     },
     "metadata": {},
     "output_type": "display_data"
    },
    {
     "data": {
      "application/vnd.jupyter.widget-view+json": {
       "model_id": "8834d5d2ff8c4b0daf24dd147a59a965",
       "version_major": 2,
       "version_minor": 0
      },
      "text/plain": [
       "Carousel(children=(Output(layout=Layout(flex='1 0 auto'), _dom_classes=('output_scroll_disabled',)),))"
      ]
     },
     "metadata": {},
     "output_type": "display_data"
    }
   ],
   "source": [
    "carousel = uw.Carousel()\n",
    "with carousel.D.item():\n",
    "    plot_something()\n",
    "\n",
    "# all equivalent - should display 5 times (including the time above)\n",
    "carousel.display()\n",
    "carousel.D\n",
    "display(carousel)\n",
    "carousel # last line in cell"
   ]
  },
  {
   "cell_type": "markdown",
   "metadata": {},
   "source": [
    "#### Iterable (`.items(iterable)`)\n",
    "Sometimes you have a list or generator of items that you want to show in tabs or a carousel. This is useful when you're plotting like 20 graphs and doing them one on top of the other makes navigating the notebook insufferable. You can optionally set a title function which will receive the current iterable item as input."
   ]
  },
  {
   "cell_type": "code",
   "execution_count": 4,
   "metadata": {},
   "outputs": [
    {
     "data": {
      "application/vnd.jupyter.widget-view+json": {
       "model_id": "7bfb286a7c004c21b673aa6e652f12a9",
       "version_major": 2,
       "version_minor": 0
      },
      "text/plain": [
       "Output(_dom_classes=('output_scroll_disabled',))"
      ]
     },
     "metadata": {},
     "output_type": "display_data"
    },
    {
     "data": {
      "application/vnd.jupyter.widget-view+json": {
       "model_id": "2b73f8ab912c4d23a84ee4eec3c7f0d3",
       "version_major": 2,
       "version_minor": 0
      },
      "text/plain": [
       "Carousel()"
      ]
     },
     "metadata": {},
     "output_type": "display_data"
    },
    {
     "data": {
      "application/vnd.jupyter.widget-view+json": {
       "model_id": "28b6a03af20c43a8b00f54c72735fcac",
       "version_major": 2,
       "version_minor": 0
      },
      "text/plain": [
       "Output(_dom_classes=('output_scroll_disabled',))"
      ]
     },
     "metadata": {},
     "output_type": "display_data"
    },
    {
     "data": {
      "application/vnd.jupyter.widget-view+json": {
       "model_id": "de7791e8f21747b8b68a1c61b5b7b37a",
       "version_major": 2,
       "version_minor": 0
      },
      "text/plain": [
       "Tabs()"
      ]
     },
     "metadata": {},
     "output_type": "display_data"
    },
    {
     "data": {
      "application/vnd.jupyter.widget-view+json": {
       "model_id": "f6dc7a519b7346babd4c6a269e252fc2",
       "version_major": 2,
       "version_minor": 0
      },
      "text/plain": [
       "Output(_dom_classes=('output_scroll_disabled',))"
      ]
     },
     "metadata": {},
     "output_type": "display_data"
    },
    {
     "data": {
      "application/vnd.jupyter.widget-view+json": {
       "model_id": "4e2ae6e62c824c2c9b253ac2c1322783",
       "version_major": 2,
       "version_minor": 0
      },
      "text/plain": [
       "Accordion()"
      ]
     },
     "metadata": {},
     "output_type": "display_data"
    }
   ],
   "source": [
    "uw.h4('Carousel').display()\n",
    "for i in uw.Carousel().D.items(range(N), title='item {}'.format):\n",
    "    plot_something(i)\n",
    "\n",
    "uw.h4('Tabs').display()\n",
    "for i in uw.Tabs().D.items(range(N), title='this is tab {}'.format):\n",
    "    plot_something(i)\n",
    "    \n",
    "uw.h4('Accordion').display()\n",
    "for i in uw.Accordion().D.items(range(N), title='see: {}'.format):\n",
    "    plot_something(i)"
   ]
  },
  {
   "cell_type": "markdown",
   "metadata": {},
   "source": [
    "#### Function capturing (`@.function`)\n",
    "This gives you a bit more flexibility than wrapping an iterable. Anything from this function will be added to it's own tab."
   ]
  },
  {
   "cell_type": "code",
   "execution_count": 5,
   "metadata": {},
   "outputs": [
    {
     "data": {
      "application/vnd.jupyter.widget-view+json": {
       "model_id": "00b36f40b3594a08b99666b4321b6f3d",
       "version_major": 2,
       "version_minor": 0
      },
      "text/plain": [
       "Tabs()"
      ]
     },
     "metadata": {},
     "output_type": "display_data"
    }
   ],
   "source": [
    "tb = uw.Tabs().D\n",
    "@tb.function(title='plotting {}'.format)\n",
    "def tabfunc(i, **kw):\n",
    "    plot_something(i, **kw)\n",
    "\n",
    "tabfunc(3)\n",
    "tabfunc(4, n=5)\n",
    "tabfunc(5)"
   ]
  },
  {
   "cell_type": "markdown",
   "metadata": {},
   "source": [
    "#### Context Manager (`with .item():`)\n",
    "This is the underlying mechanics for the other functions. What it does is, makes a new tab and append a ipywidgets.Output widget. It then uses the output widget to capture all output, like prints and plt.show() so it can display it in a tab."
   ]
  },
  {
   "cell_type": "code",
   "execution_count": 6,
   "metadata": {},
   "outputs": [
    {
     "data": {
      "application/vnd.jupyter.widget-view+json": {
       "model_id": "a2780ef9d22d4c10a107cb634a7a8339",
       "version_major": 2,
       "version_minor": 0
      },
      "text/plain": [
       "Carousel()"
      ]
     },
     "metadata": {},
     "output_type": "display_data"
    },
    {
     "data": {
      "application/vnd.jupyter.widget-view+json": {
       "model_id": "34fffa343a784900990f2e0fa100909c",
       "version_major": 2,
       "version_minor": 0
      },
      "text/plain": [
       "Accordion()"
      ]
     },
     "metadata": {},
     "output_type": "display_data"
    }
   ],
   "source": [
    "carousel = uw.Carousel().D\n",
    "for i in range(N):\n",
    "    with carousel.item():\n",
    "        plot_something(i)\n",
    "        \n",
    "acc = uw.Accordion().D\n",
    "for i in range(N):\n",
    "    with acc.item(title='Item {}'.format(i)):\n",
    "        plot_something(i)"
   ]
  },
  {
   "cell_type": "markdown",
   "metadata": {},
   "source": [
    "Internally, it's doing this. So if you want to, you can to."
   ]
  },
  {
   "cell_type": "code",
   "execution_count": 7,
   "metadata": {},
   "outputs": [
    {
     "data": {
      "application/vnd.jupyter.widget-view+json": {
       "model_id": "11172998ca7a472b943dd354fe02db55",
       "version_major": 2,
       "version_minor": 0
      },
      "text/plain": [
       "Tabs()"
      ]
     },
     "metadata": {},
     "output_type": "display_data"
    }
   ],
   "source": [
    "# manually add an output as a tab above\n",
    "tabs = uw.Tabs().D\n",
    "with tabs.append(uw.Output(), title='something'):\n",
    "    plot_something(2)"
   ]
  },
  {
   "cell_type": "code",
   "execution_count": null,
   "metadata": {},
   "outputs": [],
   "source": []
  }
 ],
 "metadata": {
  "kernelspec": {
   "display_name": "(conda)s",
   "language": "python",
   "name": "s"
  },
  "language_info": {
   "codemirror_mode": {
    "name": "ipython",
    "version": 3
   },
   "file_extension": ".py",
   "mimetype": "text/x-python",
   "name": "python",
   "nbconvert_exporter": "python",
   "pygments_lexer": "ipython3",
   "version": "3.7.7"
  },
  "widgets": {
   "application/vnd.jupyter.widget-state+json": {
    "state": {
     "00b36f40b3594a08b99666b4321b6f3d": {
      "model_module": "@jupyter-widgets/controls",
      "model_module_version": "1.5.0",
      "model_name": "TabModel",
      "state": {
       "_titles": {
        "0": "plotting 3",
        "1": "plotting 4",
        "2": "plotting 5"
       },
       "children": [
        "IPY_MODEL_e82df362e1f441fab72bac7ee0769a69",
        "IPY_MODEL_dbbf391eecf04c33b6bacbf6660e0fdf",
        "IPY_MODEL_0ed69211605c49d6804cba72532f07f5"
       ],
       "layout": "IPY_MODEL_b6181723b6a1485596912a2808b88b6a",
       "selected_index": 2
      }
     },
     "024fa8cbe21d401fb362d34ef6769fa5": {
      "model_module": "@jupyter-widgets/base",
      "model_module_version": "1.2.0",
      "model_name": "LayoutModel",
      "state": {}
     },
     "044c0d589f824924baa5b3f2725333a1": {
      "model_module": "@jupyter-widgets/base",
      "model_module_version": "1.2.0",
      "model_name": "LayoutModel",
      "state": {}
     },
     "05098f9135564f25b4a0143f5d988633": {
      "model_module": "@jupyter-widgets/output",
      "model_module_version": "1.0.0",
      "model_name": "OutputModel",
      "state": {
       "_dom_classes": [
        "output_scroll_disabled"
       ],
       "err_stop": true,
       "layout": "IPY_MODEL_93cf109241ef400b94c197f596d84eb0",
       "outputs": [
        {
         "data": {
          "text/html": "<h3>item 5</h3>",
          "text/plain": "<IPython.core.display.HTML object>"
         },
         "metadata": {},
         "output_type": "display_data"
        }
       ]
      }
     },
     "06e88ca24b6a4871bd826c8c78363160": {
      "model_module": "@jupyter-widgets/output",
      "model_module_version": "1.0.0",
      "model_name": "OutputModel",
      "state": {
       "_dom_classes": [
        "output_scroll_disabled"
       ],
       "err_stop": true,
       "layout": "IPY_MODEL_399ade7498754f8f915ff69b4482133d",
       "outputs": [
        {
         "data": {
          "image/png": "iVBORw0KGgoAAAANSUhEUgAAAXQAAAEICAYAAABPgw/pAAAAOXRFWHRTb2Z0d2FyZQBNYXRwbG90bGliIHZlcnNpb24zLjMuMiwgaHR0cHM6Ly9tYXRwbG90bGliLm9yZy8vihELAAAACXBIWXMAAAsTAAALEwEAmpwYAAAWe0lEQVR4nO3df5DcdZ3n8eeb/FD5cRuXBBMmmUQxCBIlwVkEvd3NqRwkUJtQxR+4rpzUXqXw8Gq90ztd71Zr3b2q2z9ua3VRUimXcqlzpbwTZrIadksPUajdgAkzIYSAZsVdMjMQfkhCTID8eN8f3QPt0D3znUn3TPe3n4+qLrr7+5me97eSeuXL9/Xt7shMJEmd77TZHkCS1BwGuiSVhIEuSSVhoEtSSRjoklQSBroklYSBrq4SEXsiYu1szyG1QngdutRYRKwC/hfwHuDszIxZHklqyCN0aWLHgG8Bvz/bg0iT8QhdXSUifg78+8z8/hR/7u3ATz1CVzvzCF1dKSJ+NyJemODWO9szSlM1d7YHkGZDZv4N8DezPYfUTB6hS1JJGOjqShHxkYg4PMHNUy7qOJ5yUVfKzG8A35hsXUQE8AZgfvXxGys/ni+3dkJp6jxClya2HDgK7Kk+Pgo8PnvjSI152aIklYRH6JJUEoUDPSLmRMRgRHynzraIiC9HxL6IeDgiLmnumJKkyUzlCP0PgL0Ntq0DVlZvm4BbT3EuSdIUFQr0iFgKXA18rcGSDcDtWbEdWBARS5o0oySpgKKXLf4F8F+Bsxps7wGerHm8v/rcaO2iiNhE5QieM8444z0XXHDBVGaVpK63c+fOZzNzUb1tkwZ6RFwDHMjMnRN8jnS9Dyx63eUzmbkF2ALQ19eXO3bsmOzXS5JqRMQ/N9pW5JTL+4HfqX5K3R3AByLif49bsx9YVvN4KTAyxTklSadg0kDPzD/MzKWZuQK4HrgnM39v3LKtwA3Vq10uAw5m5uj415Iktc603/ofETcBZOZmYBuwHtgHHAFubMp0kqTCphTomXkvcG/1/uaa5xO4uZmDSZKmxneKSlJJGOiSVBIGuiSVhIEuSSVhoEtSSRjoklQSBroklYSBLkklYaBLUkkY6JJUEga6JJWEgS5JJWGgS1JJGOiSVBIGuiSVhIEuSSVhoEtSSRjoklQSkwZ6RLwxIh6MiF0RsSci/rjOmrURcTAihqq3z7dmXElSI0W+U/Rl4AOZeTgi5gH3R8Tdmbl93Lr7MvOa5o8oSSpi0kCvfgH04erDedVbtnIoSdLUFTqHHhFzImIIOAB8LzMfqLPs8uppmbsj4qJmDilJmlyhQM/ME5m5GlgKXBoRq8YteQhYnpkXA38J9Nd7nYjYFBE7ImLHM888M/2pJUmvM6WrXDLzBeBe4Kpxzx/KzMPV+9uAeRGxsM7Pb8nMvszsW7Ro0bSHliS9XpGrXBZFxILq/TcBHwIeG7dmcURE9f6l1dd9runTSpIaKnKVyxLgryNiDpWg/lZmficibgLIzM3AdcDHI+I4cBS4vlqmSpJmSJGrXB4G1tR5fnPN/VuAW5o7miRpKnynqCSVhIEuSSVhoEtSSRjoklQSBroklYSBLkklYaBLUkkY6JJUEga6JJWEgS5JJWGgS1JJGOiSVBIGuiSVhIEuSSVhoEtSSRjoklQSBroklYSBLkklYaBLUklMGugR8caIeDAidkXEnoj44zprIiK+HBH7IuLhiLikNeNKkhopcoT+MvCBzLwYWA1cFRGXjVuzDlhZvW0Cbm3mkJJUFi8dO8Ghl4615LUnDfSsOFx9OK96y3HLNgC3V9duBxZExJLmjipJnenEyeT+nz7Lp//PLvr+9Pvcdv8TLfk9c4ssiog5wE7g7cBXMvOBcUt6gCdrHu+vPjc67nU2UTmCp7e3d5ojS1L7y0z2jByif3CYrbtGOPDiy5z5hrmsW7WY31y5qCW/s1CgZ+YJYHVELADuiohVmflIzZKo92N1XmcLsAWgr6/vddslqdM9+fwRBoaG6R8aYd+Bw8ybE/z2+edw7ZoePnjhObxx3pyW/e5CgT4mM1+IiHuBq4DaQN8PLKt5vBQYOeXpJKkD/OKXr/Dd3aP0Dw6z459/AcBvrHgz/+PaVaxftYQ3nzF/RuaYNNAjYhFwrBrmbwI+BPzZuGVbgU9ExB3Ae4GDmTmKJJXUS8dO8P29T9M/OMwPf/IMx04kbz/nTP7Lle/gdy4+l2W/fvqMz1TkCH0J8NfV8+inAd/KzO9ExE0AmbkZ2AasB/YBR4AbWzSvJM2aEyeTf/yn5+gfGubvHnmKwy8f55yz3sDH3reCDat7uOjcf0VEvTPQM2PSQM/Mh4E1dZ7fXHM/gZubO5okzb6Jys2Na3q47G1nM+e02QvxWlM6hy5J3WI2y83pMtAlqapRufmnG1dx9btmrtycLgNdUld7rdwc4Yc/OdAW5eZ0GeiSuk67l5vTZaBL6gqNys2rVi3m2jYrN6fLQJdUak8+f4Stu0a4a3C4Y8rN6TLQJZXOWLk5MDTMj3/eeeXmdBnokkqhTOXmdBnokjrWiZPJ9p89x12D5So3p8tAl9RRxsrNgaFKufn0ofKVm9NloEvqCOPLzbmnBWvfcQ5/dM25fOjCt5Sq3JwuA11S2+rWcnO6DHRJbeWlYyf4f3sPcNfgcNeWm9NloEuadY3KzX93+Qo2rum+cnO6DHRJs2KicnPj6h4uP697y83pMtAlzaixcrN/cJifWm42lYEuqeXqlZt9yy03m81Al9QSjcrNT//b89mwusdyswWKfEn0MuB2YDFwEtiSmV8at2YtMAA8UX3qzsz8YlMnldT2xsrN/mq5+aLl5owqcoR+HPhUZj4UEWcBOyPie5n56Lh192XmNc0fUVI7s9xsH0W+JHoUGK3efzEi9gI9wPhAl9RFLDfbz5TOoUfECmAN8ECdzZdHxC5gBPh0Zu6p8/ObgE0Avb29Ux5W0ux64chr37lpudl+Cgd6RJwJfBv4ZGYeGrf5IWB5Zh6OiPVAP7By/Gtk5hZgC0BfX19Od2hJM2es3OwfGubexy0321mhQI+IeVTC/BuZeef47bUBn5nbIuKrEbEwM59t3qiSZorlZmcqcpVLAH8F7M3MP2+wZjHwdGZmRFwKnAY819RJJbVUZvLo6GvfuWm52XmKHKG/H/gosDsihqrPfQ7oBcjMzcB1wMcj4jhwFLg+Mz2lInWA/b84wsDQ+HJzEX90TY/lZocpcpXL/cCE/yxn5i3ALc0aSlJrWW6Wk+8UlbpEvXLzvEVnWG6WiIEuldiJk8kDNR9La7lZbga6VDKNys0rL6p856blZnkZ6FJJNCo3//vVlXLzTfMtN8vOQJc62Fi5OTA4woM/fx6olJt/Ui03f91ys6sY6FKHsdxUIwa61AHqlZuLLDc1joEutamxcnNgaISBoWHLTU3KQJfajOWmpstAl9qA5aaawUCXZslLx05wz2OV79y03FQzGOjSDGpUbt5w+QqutdzUKTLQpRarV26eMX8OV61aYrmppjLQpRYZKzcHhob5ydOWm2o9A11qonrl5nssNzVDDHTpFFluql0Y6NI0jJWb/UPD3L3bclPtwUCXCqotN7cOjfDUoZdeLTc3rjmX95230HJTs6rIl0QvA24HFgMngS2Z+aVxawL4ErAeOAJ8LDMfav640sxrVG7+t6svtNxUWylyhH4c+FRmPhQRZwE7I+J7mflozZp1wMrq7b3ArdX/Sh3phSOvsG33U/QPDltuqmMU+ZLoUWC0ev/FiNgL9AC1gb4BuD0zE9geEQsiYkn1Z6WOMFZu9g8O84OacvNTV1TKzd6zLTfV3qZ0Dj0iVgBrgAfGbeoBnqx5vL/63K8EekRsAjYB9Pb2TnFUqfksN1UmhQM9Is4Evg18MjMPjd9c50fydU9kbgG2APT19b1uuzQTMpO9oy/SPzRsualSKRToETGPSph/IzPvrLNkP7Cs5vFSYOTUx5OaZ/iFowwMDdM/+Fq5+dvnW26qPIpc5RLAXwF7M/PPGyzbCnwiIu6gUoYe9Py52oHlprpJkSP09wMfBXZHxFD1uc8BvQCZuRnYRuWSxX1ULlu8semTSgXVKzffZrmpLlDkKpf7qX+OvHZNAjc3ayhpqk6eTLY/8Rz9g8Pc/chTvPjSa+XmxtU9rOqx3FT5+U5RdSzLTelXGejqOJabUn0GujrCwSPH+O7uUfqHhnnwiZpyc8NFXP3ucy03JQx0tbHacvPex5/hlRMnLTelCRjoaiuNys2PXr7cclOahIGuWTdWbg4MDTNQU25euWpx5Ts333Y2c+ecNttjSm3PQNesGSs3BwZHePzpF18tNz939YVcYbkpTZmBrhlluSm1joGulnvp2Al+8Op3blpuSq1ioKslxsrNgcERtj0y+mq5+XuXLefaNZabUisY6GqqvaOH6B+03JRmg4GuU2a5KbUHA13TcvDIMbY9Mspdg6+Vm5f0LrDclGaRga7CxsrN/qFhfvCY5abUbgx0TaheubnwTMtNqR0Z6KprrNzcumuE0YOvlZsbV/fwvvMsN6V2ZKDrVY3KzT9cb7kpdQIDvctZbkrlUeRLom8DrgEOZOaqOtvXAgPAE9Wn7szMLzZxRjVZo3LzP19xPhtWn8vys8+Y7RElTUORI/SvA7cAt0+w5r7MvKYpE6klJio3N645l3f1/JrlptThinxJ9I8iYsUMzKIWsNyUukezzqFfHhG7gBHg05m5p96iiNgEbALo7e1t0q/WeMMvHGXr0Aj9g8Ovlpu/ZbkplV4zAv0hYHlmHo6I9UA/sLLewszcAmwB6Ovryyb8blU1Kje/uOEirn7XEs4+8w2zPKGkVjvlQM/MQzX3t0XEVyNiYWY+e6qvrYlZbkqqdcqBHhGLgaczMyPiUuA04LlTnkx1nTyZPPDE8/QPDltuSvoVRS5b/CawFlgYEfuBLwDzADJzM3Ad8PGIOA4cBa7PTE+nNFndcvOixWxcY7kpqaLIVS4fnmT7LVQua1STjbxwlAHLTUkF+U7RNjNWbvYPDvOA5aakKTDQ20DdcnOh5aakqTHQZ4nlpqRmM9Bn2N7RQ/QPDbN1qFJunj5/DldZbkpqAgN9BoyVmwNDwzz21IvMqX4s7WfXXcAV73wLp8/3j0HSqTNJWuTg0WPcvbvyzk3LTUkzwUBvopeOneDexw9w16DlpqSZZ6CforFyc2BomO/uttyUNHsM9Gmy3JTUbgz0KbDclNTOTKBJ1JabD/78eTJhjeWmpDZkoNfRqNz8Tx+y3JTUvgz0qkbl5kcu6+XaNT2Wm5LaXtcH+mNPHeKuwWH+dmiEkZpyc8OaHt5vuSmpg3RloDcqNz9juSmpg3VNclluSiq7Ugf6y8erH0s7OMI9jx14tdz85AfPZ+May01J5VK6QK8tN7ftHuVQTbm5cXUP715quSmpnIp8p+htwDXAgcxcVWd7AF8C1gNHgI9l5kPNHnQylpuSul2RI/SvU/nO0NsbbF8HrKze3gvcWv1vy428cJStuyrfuWm5KanbFfmS6B9FxIoJlmwAbs/MBLZHxIKIWJKZo80astZYudk/VPlYWstNSapoxiFsD/BkzeP91edeF+gRsQnYBNDb2zutX3bPY0/z2Tt3v1publh9LisWWm5KUjMCvV7DmPUWZuYWYAtAX19f3TWTufKixQzcfKblpiSN04xA3w8sq3m8FBhpwuvWdfr8uVy8bEGrXl6SOlYzLv3YCtwQFZcBB1t1/lyS1FiRyxa/CawFFkbEfuALwDyAzNwMbKNyyeI+Kpct3tiqYSVJjRW5yuXDk2xP4OamTSRJmhbfbSNJJWGgS1JJGOiSVBIGuiSVhIEuSSVhoEtSSRjoklQSBroklYSBLkklYaBLUkkY6JJUEga6JJWEgS5JJWGgS1JJGOiSVBIGuiSVhIEuSSVhoEtSSRQK9Ii4KiIej4h9EfHZOtvXRsTBiBiq3j7f/FElSRMp8iXRc4CvAFcA+4EfR8TWzHx03NL7MvOaFswoSSqgyBH6pcC+zPxZZr4C3AFsaO1YkqSpKhLoPcCTNY/3V58b7/KI2BURd0fERU2ZTpJU2KSnXICo81yOe/wQsDwzD0fEeqAfWPm6F4rYBGwC6O3tndqkkqQJFTlC3w8sq3m8FBipXZCZhzLzcPX+NmBeRCwc/0KZuSUz+zKzb9GiRacwtiRpvCKB/mNgZUS8NSLmA9cDW2sXRMTiiIjq/Uurr/tcs4eVJDU26SmXzDweEZ8A/h6YA9yWmXsi4qbq9s3AdcDHI+I4cBS4PjPHn5aRJLVQzFbu9vX15Y4dO2bld0tSp4qInZnZV2+b7xSVpJIw0CWpJAx0SSoJA12SSsJAl6SSMNAlqSQMdEkqCQNdkkrCQJekkjDQJakkDHRJKgkDXZJKwkCXpJIw0CWpJAx0SSoJA12SSsJAl6SSMNAlqSQMdEkqiUKBHhFXRcTjEbEvIj5bZ3tExJer2x+OiEuaP6okaSKTBnpEzAG+AqwD3gl8OCLeOW7ZOmBl9bYJuLXJc0qSJlHkCP1SYF9m/iwzXwHuADaMW7MBuD0rtgMLImJJk2eVJE1gboE1PcCTNY/3A+8tsKYHGK1dFBGbqBzBAxyOiMenNO1rFgLPTvNnO5X73B3c5+5wKvu8vNGGIoEedZ7LaawhM7cAWwr8zokHitiRmX2n+jqdxH3uDu5zd2jVPhc55bIfWFbzeCkwMo01kqQWKhLoPwZWRsRbI2I+cD2wddyarcAN1atdLgMOZubo+BeSJLXOpKdcMvN4RHwC+HtgDnBbZu6JiJuq2zcD24D1wD7gCHBj60YGmnDapgO5z93Bfe4OLdnnyHzdqW5JUgfynaKSVBIGuiSVRFsHejd+5ECBff5IdV8fjoh/iIiLZ2POZppsn2vW/UZEnIiI62ZyvlYoss8RsTYihiJiT0T8cKZnbLYCf7d/LSL+NiJ2Vfe51V1cS0XEbRFxICIeabC9+fmVmW15o1LA/hPwNmA+sAt457g164G7qVwHfxnwwGzPPQP7/D7gzdX767phn2vW3UOlgL9utueegT/nBcCjQG/18TmzPfcM7PPngD+r3l8EPA/Mn+3ZT2Gffwu4BHikwfam51c7H6F340cOTLrPmfkPmfmL6sPtVK7572RF/pwB/iPwbeDATA7XIkX2+XeBOzPzXwAys9P3u8g+J3BWRARwJpVAPz6zYzZPZv6Iyj400vT8audAb/RxAlNd00mmuj+/T+Vf+E426T5HRA9wLbB5BudqpSJ/zucDb46IeyNiZ0TcMGPTtUaRfb4FuJDKmxJ3A3+QmSdnZrxZ0fT8KvLW/9nStI8c6CCF9yci/g2VQP/XLZ2o9Yrs818An8nME5WDt45XZJ/nAu8BPgi8CfjHiNiemT9p9XAtUmSfrwSGgA8A5wHfi4j7MvNQi2ebLU3Pr3YO9G78yIFC+xMR7wa+BqzLzOdmaLZWKbLPfcAd1TBfCKyPiOOZ2T8jEzZf0b/bz2bmL4FfRsSPgIuBTg30Ivt8I/A/s3KCeV9EPAFcADw4MyPOuKbnVzufcunGjxyYdJ8johe4E/hoBx+t1Zp0nzPzrZm5IjNXAP8X+A8dHOZQ7O/2APCbETE3Ik6n8gmne2d4zmYqss//QuX/SIiItwDvAH42o1POrKbnV9seoWd7fuRASxXc588DZwNfrR6xHs8O/qS6gvtcKkX2OTP3RsTfAQ8DJ4GvZWbdy986QcE/5z8Bvh4Ru6mcjvhMZnbsx+pGxDeBtcDCiNgPfAGYB63LL9/6L0kl0c6nXCRJU2CgS1JJGOiSVBIGuiSVhIEuSSVhoEtSSRjoklQS/x85wbCy7sdWBQAAAABJRU5ErkJggg==\n",
          "text/plain": "<Figure size 432x288 with 1 Axes>"
         },
         "metadata": {
          "needs_background": "light"
         },
         "output_type": "display_data"
        }
       ]
      }
     },
     "0aae529bba9d41f9bbe72f6b98a8932e": {
      "model_module": "@jupyter-widgets/output",
      "model_module_version": "1.0.0",
      "model_name": "OutputModel",
      "state": {
       "_dom_classes": [
        "output_scroll_disabled"
       ],
       "err_stop": true,
       "layout": "IPY_MODEL_024fa8cbe21d401fb362d34ef6769fa5",
       "outputs": [
        {
         "data": {
          "image/png": "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\n",
          "text/plain": "<Figure size 432x288 with 1 Axes>"
         },
         "metadata": {
          "needs_background": "light"
         },
         "output_type": "display_data"
        }
       ]
      }
     },
     "0c149509dc2e4849a809eeac6d4c9cd7": {
      "model_module": "@jupyter-widgets/output",
      "model_module_version": "1.0.0",
      "model_name": "OutputModel",
      "state": {
       "_dom_classes": [
        "output_scroll_disabled"
       ],
       "err_stop": true,
       "layout": "IPY_MODEL_3ad14e7f62e645d99339ab35e84537a3",
       "outputs": [
        {
         "data": {
          "image/png": "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\n",
          "text/plain": "<Figure size 432x288 with 1 Axes>"
         },
         "metadata": {
          "needs_background": "light"
         },
         "output_type": "display_data"
        }
       ]
      }
     },
     "0ed69211605c49d6804cba72532f07f5": {
      "model_module": "@jupyter-widgets/output",
      "model_module_version": "1.0.0",
      "model_name": "OutputModel",
      "state": {
       "_dom_classes": [
        "output_scroll_disabled"
       ],
       "err_stop": true,
       "layout": "IPY_MODEL_024fa8cbe21d401fb362d34ef6769fa5",
       "outputs": [
        {
         "data": {
          "image/png": "iVBORw0KGgoAAAANSUhEUgAAAXQAAAEICAYAAABPgw/pAAAAOXRFWHRTb2Z0d2FyZQBNYXRwbG90bGliIHZlcnNpb24zLjMuMiwgaHR0cHM6Ly9tYXRwbG90bGliLm9yZy8vihELAAAACXBIWXMAAAsTAAALEwEAmpwYAAAXe0lEQVR4nO3da5Bc9Xnn8e+DJMxF3CUhacQgYgQCRJgxioQvawvI1iLBoqGKFyTZdUztlgpvYONKpeLEVbYrTm3ivNkKXhxrtS5qoTax12ujkczFBDvFxQvYlphBIAisuAg0I6MLGCyBEZKefdE9ohnm0qPp7uk+/f1UdVVf/n36OSXVT0fn15fITCRJre+YqR5AklQbBrokFYSBLkkFYaBLUkEY6JJUEAa6JBWEga62EhFbI2LFVM8h1YOBrraSmRdl5oPVro+Iz0XEoYjYV3FZUbcBpUmYPtUDSC3gscz81FQPIY3HI3S1lYh4OSJ+d6rnkOrBQFdbiojfj4hfjXHprFjeHRF7IuL5iPhyRPg/WzUl/2KqLWXmPwL/WMXSh4ElwHbgIuB/AweBv6nfdNLR8QhdGkNmvpiZL2Xm4cx8CvgacP1UzyWNxEBXW4qIPxj2zpXhl85RnppANHJWqVoGutpSZv5DZs4c4/IKQESsjIgzy9cXA18GNkzl7NJoDHRpbFcCWyJiP3AvcBfw11M7kjSy8AcuJKkYPEKXpIKoOtAjYlpE9EXE3SM8FhHxjYjYFhFbIuJjtR1TkjSeiRyh/zHw7CiPrQQWlS9rgG9Nci5J0gRVFegRsQC4Gvj2KEtWA3dmyePAqRExr0YzSpKqUO0nRf8O+DPgpFEe7wBerbi9o3zfzspFEbGG0hE8J5544qWLFy+eyKyS1PY2b968JzNnj/TYuIEeEdcAuzJz8xhfGzrSBy0+9PaZzFwHrANYunRpbtq0abyXlyRViIjtoz1WzSmXTwLXRsTLwHeBKyLifw1bswM4q+L2AmBwgnNKkiZh3EDPzL/IzAWZuRC4AfjnzPx3w5ZtBD5bfrfLZcCbmblz+LYkSfVz1N+2GBE3AWTmWkqfoFsFbAPeBm6syXSSpKpNKNDLP931YPn62or7E/ijWg4mSZoYPykqSQVhoEtSQRjoklQQBrokFYSBLkkFYaBLUkEY6JJUEAa6JBWEgS5JBWGgS1JBGOiSVBAGuiQVhIEuSQVhoEtSQRjoklQQBrokFYSBLkkFYaBLUkGMG+gRcVxE/DwinoyIrRHxlyOsWRERb0ZEf/nylfqMK0kaTTW/KfoucEVm7ouIGcBPI+K+zHx82LpHMvOa2o8oSarGuIFe/gHofeWbM8qXrOdQkqSJq+ocekRMi4h+YBfwQGb+bIRlHy+flrkvIi6q5ZCSpPFVFeiZeSgzu4AFwLKIWDJsyRPA2Zl5CfDfgN6RthMRayJiU0Rs2r1799FPLUn6kAm9yyUzfwU8CFw17P63MnNf+fq9wIyImDXC89dl5tLMXDp79uyjHlqS9GHVvMtldkScWr5+PPC7wL8MWzM3IqJ8fVl5u3trPq0kaVTVvMtlHnBHREyjFNTfy8y7I+ImgMxcC1wPfD4iDgLvADeUy1RJUoNU8y6XLUD3CPevrbh+G3BbbUeTJE2EnxSVpIIw0CWpIAx0SSoIA12SCsJAl6SCMNAlqSAMdEkqCANdkgrCQJekgjDQJakgDHRJKggDXZIKwkCXpIIw0CWpIAx0SSoIA12SCsJAl6SCMNAlqSAMdEkqiHEDPSKOi4ifR8STEbE1Iv5yhDUREd+IiG0RsSUiPlafcSVJo6nmCP1d4IrMvAToAq6KiMuGrVkJLCpf1gDfquWQld47dJg39h+o1+YlqWWNG+hZsq98c0b5ksOWrQbuLK99HDg1IubVdtSSh57bzbK//jH/8Y5N3L1lkN+8d6geLyNJLWd6NYsiYhqwGTgX+GZm/mzYkg7g1YrbO8r37Ry2nTWUjuDp7Ow8qoE/Omcmn/vEQjY+OciPn32NmR+ZzlVL5tLT1cHHP3oG046Jo9quJLW6yBx+sD3G4ohTgfXALZn5dMX99wB/k5k/Ld/+CfBnmbl5tG0tXbo0N23adLRzc+hw8viLe+ntG+C+p3/JvncPMuekj3DtJfPp6e7govknE2G4SyqWiNicmUtHeqyqI/QhmfmriHgQuAp4uuKhHcBZFbcXAIMTnHNCph0TfPLcWXzy3Fn8Vc8SfvLsLtb3DXDHYy/z7Z++xLlzZnJddwfXXjKfs04/oZ6jSFJTGPcIPSJmA++Vw/x44J+Av83MuyvWXA3cDKwClgPfyMxlY213skfoo3lj/wHufXonvX0D/OLlNwD4nYWnsbqrg6svnsdpJx5b89eUpEYZ6wi9mkD/beAOYBqlEvV7mfm1iLgJIDPXRuncxm2UjtzfBm7MzDHTul6BXunV199m45ODrO8bYNuufcyYFnzmvDlc193BlRfM4bgZ0+r6+pJUa5MK9HppRKAPyUy2Dr7Fhv4BNvQPsuvX7x4pU6/r7uCy37JMldQa2j7QK41Upp55cqlMXd1lmSqpuRnoo/jNe4eOlKkPPb+L9w6lZaqkpmagV+GN/Qe456mdbOi3TJXUvAz0CbJMldSsDPSjZJkqqdkY6DUwVKau7xvgR5apkqaIgV5jv3nvED9+9jV6+wZ58LldHDycLJozkx7LVEl1ZqDXkWWqpEYy0BvEMlVSvRnoDTZUpvb2DbDxyVKZetLQ1/xapkqaBAN9Ch06nDz2wl56+y1TJU2egd4kLFMlTZaB3oSGytTevgE2bX+/TO3pLpWpp55gmSrpwwz0Jvfq62+zoX+A3v7BI2XqivPn0NNlmSrpgwz0FmGZKmk8BnoLGqtM7enu4MJ5lqlSOzLQW9xYZerqrvksOM0yVWoXBnqBWKZK7W2yvyl6FnAnMBc4DKzLzFuHrVkBbABeKt91V2Z+baztGuiTZ5kqtZ/JBvo8YF5mPhERJwGbgZ7MfKZizQrgTzPzmmqHMtBrZ6wy9bruDpZbpkqFMVagTx/vyZm5E9hZvv7riHgW6ACeGfOJapiIYEnHKSzpOIW/WHXBkTL1vqd/yf/ZvMMyVWoTEzqHHhELgYeBJZn5VsX9K4AfADuAQUpH61tHeP4aYA1AZ2fnpdu3b5/E6BrP+2XqAA8+t9syVSqAmpSiETETeAj4L5l517DHTgYOZ+a+iFgF3JqZi8banqdcGmukMnXZwtNZ3T3fMlVqIZMO9IiYAdwN3J+Z/7WK9S8DSzNzz2hrDPSpM1Smru8b4IXd+y1TpRYy2VI0gDuA1zPzC6OsmQu8lpkZEcuA7wNn5xgbN9CnnmWq1HomG+ifAh4BnqL0tkWALwGdAJm5NiJuBj4PHATeAf4kMx8da7sGenMZ+mTq+r4B7t/6/idTV3eVzrdbpkrNwQ8WaULeOVAqUzf0W6ZKzcZA11F7feg3Uy1TpaZgoKsmRitTr+vu4IrFlqlSIxjoqqmhMnV9uUzdbZkqNYyBrrqxTJUay0BXQ4xUpp535swj4W6ZKk2ega6Ge73ik6mbLVOlmjHQNaUsU6XaMdDVFEYrU1dePJeeLstUqRoGuppOZZn6o6d3sv/AIeaefBzXds23TJXGYKCrqVmmStUz0NUyRitTe7o7WHXxXMtUtT0DXS1ppDL18vPn0GOZqjZmoKulWaZK7zPQVRiHDiePvrCH3r7BD5WpPV0dXDDvJMtUFZqBrkIaKlN7+wZ46Pn3y9TS1/x20HHq8VM9olRzBroKzzJV7cJAV1t5ZW+pTO3tt0xV8RjoakuZydMDb9HbP0KZ2t3BZeecwTGWqWoxk/1N0bOAO4G5lH5TdF1m3jpsTQC3AquAt4HPZeYTY23XQFcjWaaqKCYb6POAeZn5REScBGwGejLzmYo1q4BbKAX6cuDWzFw+1nYNdE0Vy1S1spqecomIDcBtmflAxX3/HXgwM79Tvv0csCIzd462HQNdzeD1/Qe4Z8sgvf2D75ep55xOT1cHV188j1NOmDHFE0ofVLNAj4iFwMPAksx8q+L+u4GvZ+ZPy7d/AnwxMzcNe/4aYA1AZ2fnpdu3b5/grkj1M1Smru8f4MXd+zl22jGsOH+2ZaqayliBPn0CG5kJ/AD4QmWYDz08wlM+9C9FZq4D1kHpCL3a15YaofOME7jlykXcfMW5HyhT/+mZ1zjpuOmsXGKZquZWVaBHxAxKYf4PmXnXCEt2AGdV3F4ADE5+PKnxIoKLF5zCxQtO4UurLuDRF/awvm+Ae7bs5HubdjD35ONY3TWf1ZapajLVlKIB3AG8nplfGGXN1cDNvF+KfiMzl421Xc+hq9W8c+AQDzz7GhsqytTzzzyJ1d3zLVPVMJN9l8ungEeApyi9bRHgS0AnQGauLYf+bcBVlN62eOPw8+fDGehqZZapmip+sEiqo9HK1Ou6O7jcMlU1ZqBLDTD0ydT1fQP8cEv5k6nHTWfVknms7p5vmaqaMNClBjt46DCPvVj6zdT7n/7lkU+mWqZqsgx0aQpZpqqWDHSpSVimarIMdKkJWabqaBjoUhOzTNVEGOhSixirTO3p7uCCeSdP9YiaYga61IIsUzUSA11qcUNl6vq+AZ545VdAqUy9rruDVUssU9uJgS4VyPa9+9nQP0hvRZl6+eLZ9HRZprYDA10qoMzkqYE36e0bZOOTg+zZZ5naDgx0qeAOHjrMoy/spbf//TJ13inHce0llqlFY6BLbWSoTO3tG+DhijK1p7uDa7vmW6a2OANdalN7973LPU/tpNcytTAMdEmWqQVhoEs6wjK1tRnokkZ0pEztG+D+rZaprcBAlzQuy9TWMNnfFL0duAbYlZlLRnh8BbABeKl8112Z+bXxhjLQpeZlmdq8Jhvonwb2AXeOEeh/mpnXTGQoA11qDUfK1L4BXtxjmTrVxgr06eM9OTMfjoiFNZ9KUks4+4wT+c9XLuKWK879QJl6/9bXjpSpPd0dLD/ndMvUKVbVOfRyoN89xhH6D4AdwCClo/Wto2xnDbAGoLOz89Lt27cf7dySppBl6tSZdCk6TqCfDBzOzH0RsQq4NTMXjbdNT7lIxTBWmbq6az7zLVNrqq6BPsLal4GlmblnrHUGulQ8I5Wpy885nR7L1Jqp9xH6XOC1zMyIWAZ8Hzg7x9mwgS4Vm2VqfUz2XS7fAVYAs4DXgK8CMwAyc21E3Ax8HjgIvAP8SWY+Ot5QBrrUHsb6ZKpl6sT5wSJJTaGyTP3R1l/y9lCZ2jWfni7L1GoY6JKaztsHDvLAM6+xoX+Qh57fzaHDyeK5J7G6yzJ1LAa6pKY2VKau7xugzzJ1TAa6pJYxWpl6XXcHK863TDXQJbWcoTJ1fd8AP3xy55Ey9eqL57G6q33LVANdUks7eOgw//eFvWywTDXQJRVHu5epBrqkQhpepkbAsoWlr/ldefE8Tjm+eGWqgS6p8Lbv3U9v3yAb+otdphroktpGZrJlx5v09hezTDXQJbWlkcrU+accx7/tms913R0sntt6ZaqBLqntDZWpvX0DPPz/9rRsmWqgS1KFPfve5Z4tO+ntb70y1UCXpFG8vKf0ydTKMvWKxXPo6Z7P5Yvn8JHpzVWmGuiSNI4PlqmD7Nl3gJOPm86qJitTDXRJmoChMnXoN1ObqUw10CXpKI1WpvZ0d3DtJY0vUw10SaqBkcrU5eecTk9X48pUA12SamyqytTJ/qbo7cA1wK5RfiQ6gFuBVcDbwOcy84nxhjLQJRXBWGVqT3cHyxbWtkydbKB/GtgH3DlKoK8CbqEU6MuBWzNz+XhDGeiSima0MvXarg56uufXpEwdK9Cnj/fkzHw4IhaOsWQ1pbBP4PGIODUi5mXmzqMbV5Ja0/Rpx/CZ82bzmfNmf6BM/R+PvMjah16oe5k6bqBXoQN4teL2jvJ9Hwr0iFgDrAHo7OyswUtLUnM64djp5a8V6PhAmfr1+/6F3b9+ly9fc2HNX7MWgT7SyaERz+Nk5jpgHZROudTgtSWp6c2a+RH+8BML+cNPLOTlPfs5dvoxdXmdWgT6DuCsitsLgMEabFeSCmfhrBPrtu1a/DOxEfhslFwGvOn5c0lqvHGP0CPiO8AKYFZE7AC+CswAyMy1wL2U3uGyjdLbFm+s17CSpNFV8y6X3xvn8QT+qGYTSZKOSn3OzEuSGs5Al6SCMNAlqSAMdEkqCANdkgrCQJekgjDQJakgDHRJKggDXZIKwkCXpIIw0CWpIAx0SSoIA12SCsJAl6SCMNAlqSAMdEkqCANdkgrCQJekgqgq0CPiqoh4LiK2RcSfj/D4ioh4MyL6y5ev1H5USdJYqvmR6GnAN4F/DewAfhERGzPzmWFLH8nMa+owoySpCtUcoS8DtmXmi5l5APgusLq+Y0mSJqqaQO8AXq24vaN833Afj4gnI+K+iLioJtNJkqo27ikXIEa4L4fdfgI4OzP3RcQqoBdY9KENRawB1gB0dnZObFJJ0piqOULfAZxVcXsBMFi5IDPfysx95ev3AjMiYtbwDWXmusxcmplLZ8+ePYmxJUnDVRPovwAWRcQ5EXEscAOwsXJBRMyNiChfX1be7t5aDytJGt24p1wy82BE3AzcD0wDbs/MrRFxU/nxtcD1wOcj4iDwDnBDZg4/LSNJqqOYqtxdunRpbtq0aUpeW5JaVURszsylIz3mJ0UlqSAMdEkqCANdkgrCQJekgjDQJakgDHRJKggDXZIKwkCXpIIw0CWpIAx0SSoIA12SCsJAl6SCMNAlqSAMdEkqCANdkgrCQJekgjDQJakgDHRJKggDXZIKoqpAj4irIuK5iNgWEX8+wuMREd8oP74lIj5W+1ElSWMZN9AjYhrwTWAlcCHwexFx4bBlK4FF5csa4Fs1nlOSNI5qjtCXAdsy88XMPAB8F1g9bM1q4M4seRw4NSLm1XhWSdIYplexpgN4teL2DmB5FWs6gJ2ViyJiDaUjeIB9EfHchKZ93yxgz1E+t1W5z+3BfW4Pk9nns0d7oJpAjxHuy6NYQ2auA9ZV8ZpjDxSxKTOXTnY7rcR9bg/uc3uo1z5Xc8plB3BWxe0FwOBRrJEk1VE1gf4LYFFEnBMRxwI3ABuHrdkIfLb8bpfLgDczc+fwDUmS6mfcUy6ZeTAibgbuB6YBt2fm1oi4qfz4WuBeYBWwDXgbuLF+IwM1OG3Tgtzn9uA+t4e67HNkfuhUtySpBflJUUkqCANdkgqiqQO9Hb9yoIp9/oPyvm6JiEcj4pKpmLOWxtvninW/ExGHIuL6Rs5XD9Xsc0SsiIj+iNgaEQ81esZaq+Lv9ikR8cOIeLK8z/Xu4uoqIm6PiF0R8fQoj9c+vzKzKS+UCtgXgN8CjgWeBC4ctmYVcB+l98FfBvxsquduwD5/AjitfH1lO+xzxbp/plTAXz/Vczfgz/lU4Bmgs3x7zlTP3YB9/hLwt+Xrs4HXgWOnevZJ7POngY8BT4/yeM3zq5mP0NvxKwfG3efMfDQz3yjffJzSe/5bWTV/zgC3AD8AdjVyuDqpZp9/H7grM18ByMxW3+9q9jmBkyIigJmUAv1gY8esncx8mNI+jKbm+dXMgT7a1wlMdE0rmej+/AdK/8K3snH3OSI6gOuAtQ2cq56q+XM+DzgtIh6MiM0R8dmGTVcf1ezzbcAFlD6U+BTwx5l5uDHjTYma51c1H/2fKjX7yoEWUvX+RMTllAL9U3WdqP6q2ee/A76YmYdKB28tr5p9ng5cClwJHA88FhGPZ+bz9R6uTqrZ538D9ANXAB8FHoiIRzLzrTrPNlVqnl/NHOjt+JUDVe1PRPw28G1gZWbubdBs9VLNPi8FvlsO81nAqog4mJm9DZmw9qr9u70nM/cD+yPiYeASoFUDvZp9vhH4epZOMG+LiJeAxcDPGzNiw9U8v5r5lEs7fuXAuPscEZ3AXcC/b+GjtUrj7nNmnpOZCzNzIfB94D+1cJhDdX+3NwD/KiKmR8QJlL7h9NkGz1lL1ezzK5T+R0JEnAmcD7zY0Ckbq+b51bRH6NmcXzlQV1Xu81eAM4C/Lx+xHswW/qa6Kve5UKrZ58x8NiJ+BGwBDgPfzswR3/7WCqr8c/4r4H9GxFOUTkd8MTNb9mt1I+I7wApgVkTsAL4KzID65Zcf/ZekgmjmUy6SpAkw0CWpIAx0SSoIA12SCsJAl6SCMNAlqSAMdEkqiP8Px3ci8GJoX0QAAAAASUVORK5CYII=\n",
          "text/plain": "<Figure size 432x288 with 1 Axes>"
         },
         "metadata": {
          "needs_background": "light"
         },
         "output_type": "display_data"
        }
       ]
      }
     },
     "11172998ca7a472b943dd354fe02db55": {
      "model_module": "@jupyter-widgets/controls",
      "model_module_version": "1.5.0",
      "model_name": "TabModel",
      "state": {
       "_titles": {
        "0": "something"
       },
       "children": [
        "IPY_MODEL_b9246f6471ac4667a3af317fda200bd5"
       ],
       "layout": "IPY_MODEL_39edc6cd6898472bbb1735bb30b598f6"
      }
     },
     "158ebb4d63d84a7694667ca330da8f41": {
      "model_module": "@jupyter-widgets/output",
      "model_module_version": "1.0.0",
      "model_name": "OutputModel",
      "state": {
       "_dom_classes": [
        "output_scroll_disabled"
       ],
       "err_stop": true,
       "layout": "IPY_MODEL_3ad14e7f62e645d99339ab35e84537a3",
       "outputs": [
        {
         "data": {
          "image/png": "iVBORw0KGgoAAAANSUhEUgAAAXQAAAEICAYAAABPgw/pAAAAOXRFWHRTb2Z0d2FyZQBNYXRwbG90bGliIHZlcnNpb24zLjMuMiwgaHR0cHM6Ly9tYXRwbG90bGliLm9yZy8vihELAAAACXBIWXMAAAsTAAALEwEAmpwYAAAWe0lEQVR4nO3df5DcdZ3n8eeb/FD5cRuXBBMmmUQxCBIlwVkEvd3NqRwkUJtQxR+4rpzUXqXw8Gq90ztd71Zr3b2q2z9ua3VRUimXcqlzpbwTZrIadksPUajdgAkzIYSAZsVdMjMQfkhCTID8eN8f3QPt0D3znUn3TPe3n4+qLrr7+5me97eSeuXL9/Xt7shMJEmd77TZHkCS1BwGuiSVhIEuSSVhoEtSSRjoklQSBroklYSBrq4SEXsiYu1szyG1QngdutRYRKwC/hfwHuDszIxZHklqyCN0aWLHgG8Bvz/bg0iT8QhdXSUifg78+8z8/hR/7u3ATz1CVzvzCF1dKSJ+NyJemODWO9szSlM1d7YHkGZDZv4N8DezPYfUTB6hS1JJGOjqShHxkYg4PMHNUy7qOJ5yUVfKzG8A35hsXUQE8AZgfvXxGys/ni+3dkJp6jxClya2HDgK7Kk+Pgo8PnvjSI152aIklYRH6JJUEoUDPSLmRMRgRHynzraIiC9HxL6IeDgiLmnumJKkyUzlCP0PgL0Ntq0DVlZvm4BbT3EuSdIUFQr0iFgKXA18rcGSDcDtWbEdWBARS5o0oySpgKKXLf4F8F+Bsxps7wGerHm8v/rcaO2iiNhE5QieM8444z0XXHDBVGaVpK63c+fOZzNzUb1tkwZ6RFwDHMjMnRN8jnS9Dyx63eUzmbkF2ALQ19eXO3bsmOzXS5JqRMQ/N9pW5JTL+4HfqX5K3R3AByLif49bsx9YVvN4KTAyxTklSadg0kDPzD/MzKWZuQK4HrgnM39v3LKtwA3Vq10uAw5m5uj415Iktc603/ofETcBZOZmYBuwHtgHHAFubMp0kqTCphTomXkvcG/1/uaa5xO4uZmDSZKmxneKSlJJGOiSVBIGuiSVhIEuSSVhoEtSSRjoklQSBroklYSBLkklYaBLUkkY6JJUEga6JJWEgS5JJWGgS1JJGOiSVBIGuiSVhIEuSSVhoEtSSRjoklQSkwZ6RLwxIh6MiF0RsSci/rjOmrURcTAihqq3z7dmXElSI0W+U/Rl4AOZeTgi5gH3R8Tdmbl93Lr7MvOa5o8oSSpi0kCvfgH04erDedVbtnIoSdLUFTqHHhFzImIIOAB8LzMfqLPs8uppmbsj4qJmDilJmlyhQM/ME5m5GlgKXBoRq8YteQhYnpkXA38J9Nd7nYjYFBE7ImLHM888M/2pJUmvM6WrXDLzBeBe4Kpxzx/KzMPV+9uAeRGxsM7Pb8nMvszsW7Ro0bSHliS9XpGrXBZFxILq/TcBHwIeG7dmcURE9f6l1dd9runTSpIaKnKVyxLgryNiDpWg/lZmficibgLIzM3AdcDHI+I4cBS4vlqmSpJmSJGrXB4G1tR5fnPN/VuAW5o7miRpKnynqCSVhIEuSSVhoEtSSRjoklQSBroklYSBLkklYaBLUkkY6JJUEga6JJWEgS5JJWGgS1JJGOiSVBIGuiSVhIEuSSVhoEtSSRjoklQSBroklYSBLkklYaBLUklMGugR8caIeDAidkXEnoj44zprIiK+HBH7IuLhiLikNeNKkhopcoT+MvCBzLwYWA1cFRGXjVuzDlhZvW0Cbm3mkJJUFi8dO8Ghl4615LUnDfSsOFx9OK96y3HLNgC3V9duBxZExJLmjipJnenEyeT+nz7Lp//PLvr+9Pvcdv8TLfk9c4ssiog5wE7g7cBXMvOBcUt6gCdrHu+vPjc67nU2UTmCp7e3d5ojS1L7y0z2jByif3CYrbtGOPDiy5z5hrmsW7WY31y5qCW/s1CgZ+YJYHVELADuiohVmflIzZKo92N1XmcLsAWgr6/vddslqdM9+fwRBoaG6R8aYd+Bw8ybE/z2+edw7ZoePnjhObxx3pyW/e5CgT4mM1+IiHuBq4DaQN8PLKt5vBQYOeXpJKkD/OKXr/Dd3aP0Dw6z459/AcBvrHgz/+PaVaxftYQ3nzF/RuaYNNAjYhFwrBrmbwI+BPzZuGVbgU9ExB3Ae4GDmTmKJJXUS8dO8P29T9M/OMwPf/IMx04kbz/nTP7Lle/gdy4+l2W/fvqMz1TkCH0J8NfV8+inAd/KzO9ExE0AmbkZ2AasB/YBR4AbWzSvJM2aEyeTf/yn5+gfGubvHnmKwy8f55yz3sDH3reCDat7uOjcf0VEvTPQM2PSQM/Mh4E1dZ7fXHM/gZubO5okzb6Jys2Na3q47G1nM+e02QvxWlM6hy5J3WI2y83pMtAlqapRufmnG1dx9btmrtycLgNdUld7rdwc4Yc/OdAW5eZ0GeiSuk67l5vTZaBL6gqNys2rVi3m2jYrN6fLQJdUak8+f4Stu0a4a3C4Y8rN6TLQJZXOWLk5MDTMj3/eeeXmdBnokkqhTOXmdBnokjrWiZPJ9p89x12D5So3p8tAl9RRxsrNgaFKufn0ofKVm9NloEvqCOPLzbmnBWvfcQ5/dM25fOjCt5Sq3JwuA11S2+rWcnO6DHRJbeWlYyf4f3sPcNfgcNeWm9NloEuadY3KzX93+Qo2rum+cnO6DHRJs2KicnPj6h4uP697y83pMtAlzaixcrN/cJifWm42lYEuqeXqlZt9yy03m81Al9QSjcrNT//b89mwusdyswWKfEn0MuB2YDFwEtiSmV8at2YtMAA8UX3qzsz8YlMnldT2xsrN/mq5+aLl5owqcoR+HPhUZj4UEWcBOyPie5n56Lh192XmNc0fUVI7s9xsH0W+JHoUGK3efzEi9gI9wPhAl9RFLDfbz5TOoUfECmAN8ECdzZdHxC5gBPh0Zu6p8/ObgE0Avb29Ux5W0ux64chr37lpudl+Cgd6RJwJfBv4ZGYeGrf5IWB5Zh6OiPVAP7By/Gtk5hZgC0BfX19Od2hJM2es3OwfGubexy0321mhQI+IeVTC/BuZeef47bUBn5nbIuKrEbEwM59t3qiSZorlZmcqcpVLAH8F7M3MP2+wZjHwdGZmRFwKnAY819RJJbVUZvLo6GvfuWm52XmKHKG/H/gosDsihqrPfQ7oBcjMzcB1wMcj4jhwFLg+Mz2lInWA/b84wsDQ+HJzEX90TY/lZocpcpXL/cCE/yxn5i3ALc0aSlJrWW6Wk+8UlbpEvXLzvEVnWG6WiIEuldiJk8kDNR9La7lZbga6VDKNys0rL6p856blZnkZ6FJJNCo3//vVlXLzTfMtN8vOQJc62Fi5OTA4woM/fx6olJt/Ui03f91ys6sY6FKHsdxUIwa61AHqlZuLLDc1joEutamxcnNgaISBoWHLTU3KQJfajOWmpstAl9qA5aaawUCXZslLx05wz2OV79y03FQzGOjSDGpUbt5w+QqutdzUKTLQpRarV26eMX8OV61aYrmppjLQpRYZKzcHhob5ydOWm2o9A11qonrl5nssNzVDDHTpFFluql0Y6NI0jJWb/UPD3L3bclPtwUCXCqotN7cOjfDUoZdeLTc3rjmX95230HJTs6rIl0QvA24HFgMngS2Z+aVxawL4ErAeOAJ8LDMfav640sxrVG7+t6svtNxUWylyhH4c+FRmPhQRZwE7I+J7mflozZp1wMrq7b3ArdX/Sh3phSOvsG33U/QPDltuqmMU+ZLoUWC0ev/FiNgL9AC1gb4BuD0zE9geEQsiYkn1Z6WOMFZu9g8O84OacvNTV1TKzd6zLTfV3qZ0Dj0iVgBrgAfGbeoBnqx5vL/63K8EekRsAjYB9Pb2TnFUqfksN1UmhQM9Is4Evg18MjMPjd9c50fydU9kbgG2APT19b1uuzQTMpO9oy/SPzRsualSKRToETGPSph/IzPvrLNkP7Cs5vFSYOTUx5OaZ/iFowwMDdM/+Fq5+dvnW26qPIpc5RLAXwF7M/PPGyzbCnwiIu6gUoYe9Py52oHlprpJkSP09wMfBXZHxFD1uc8BvQCZuRnYRuWSxX1ULlu8semTSgXVKzffZrmpLlDkKpf7qX+OvHZNAjc3ayhpqk6eTLY/8Rz9g8Pc/chTvPjSa+XmxtU9rOqx3FT5+U5RdSzLTelXGejqOJabUn0GujrCwSPH+O7uUfqHhnnwiZpyc8NFXP3ucy03JQx0tbHacvPex5/hlRMnLTelCRjoaiuNys2PXr7cclOahIGuWTdWbg4MDTNQU25euWpx5Ts333Y2c+ecNttjSm3PQNesGSs3BwZHePzpF18tNz939YVcYbkpTZmBrhlluSm1joGulnvp2Al+8Op3blpuSq1ioKslxsrNgcERtj0y+mq5+XuXLefaNZabUisY6GqqvaOH6B+03JRmg4GuU2a5KbUHA13TcvDIMbY9Mspdg6+Vm5f0LrDclGaRga7CxsrN/qFhfvCY5abUbgx0TaheubnwTMtNqR0Z6KprrNzcumuE0YOvlZsbV/fwvvMsN6V2ZKDrVY3KzT9cb7kpdQIDvctZbkrlUeRLom8DrgEOZOaqOtvXAgPAE9Wn7szMLzZxRjVZo3LzP19xPhtWn8vys8+Y7RElTUORI/SvA7cAt0+w5r7MvKYpE6klJio3N645l3f1/JrlptThinxJ9I8iYsUMzKIWsNyUukezzqFfHhG7gBHg05m5p96iiNgEbALo7e1t0q/WeMMvHGXr0Aj9g8Ovlpu/ZbkplV4zAv0hYHlmHo6I9UA/sLLewszcAmwB6Ovryyb8blU1Kje/uOEirn7XEs4+8w2zPKGkVjvlQM/MQzX3t0XEVyNiYWY+e6qvrYlZbkqqdcqBHhGLgaczMyPiUuA04LlTnkx1nTyZPPDE8/QPDltuSvoVRS5b/CawFlgYEfuBLwDzADJzM3Ad8PGIOA4cBa7PTE+nNFndcvOixWxcY7kpqaLIVS4fnmT7LVQua1STjbxwlAHLTUkF+U7RNjNWbvYPDvOA5aakKTDQ20DdcnOh5aakqTHQZ4nlpqRmM9Bn2N7RQ/QPDbN1qFJunj5/DldZbkpqAgN9BoyVmwNDwzz21IvMqX4s7WfXXcAV73wLp8/3j0HSqTNJWuTg0WPcvbvyzk3LTUkzwUBvopeOneDexw9w16DlpqSZZ6CforFyc2BomO/uttyUNHsM9Gmy3JTUbgz0KbDclNTOTKBJ1JabD/78eTJhjeWmpDZkoNfRqNz8Tx+y3JTUvgz0qkbl5kcu6+XaNT2Wm5LaXtcH+mNPHeKuwWH+dmiEkZpyc8OaHt5vuSmpg3RloDcqNz9juSmpg3VNclluSiq7Ugf6y8erH0s7OMI9jx14tdz85AfPZ+May01J5VK6QK8tN7ftHuVQTbm5cXUP715quSmpnIp8p+htwDXAgcxcVWd7AF8C1gNHgI9l5kPNHnQylpuSul2RI/SvU/nO0NsbbF8HrKze3gvcWv1vy428cJStuyrfuWm5KanbFfmS6B9FxIoJlmwAbs/MBLZHxIKIWJKZo80astZYudk/VPlYWstNSapoxiFsD/BkzeP91edeF+gRsQnYBNDb2zutX3bPY0/z2Tt3v1publh9LisWWm5KUjMCvV7DmPUWZuYWYAtAX19f3TWTufKixQzcfKblpiSN04xA3w8sq3m8FBhpwuvWdfr8uVy8bEGrXl6SOlYzLv3YCtwQFZcBB1t1/lyS1FiRyxa/CawFFkbEfuALwDyAzNwMbKNyyeI+Kpct3tiqYSVJjRW5yuXDk2xP4OamTSRJmhbfbSNJJWGgS1JJGOiSVBIGuiSVhIEuSSVhoEtSSRjoklQSBroklYSBLkklYaBLUkkY6JJUEga6JJWEgS5JJWGgS1JJGOiSVBIGuiSVhIEuSSVhoEtSSRQK9Ii4KiIej4h9EfHZOtvXRsTBiBiq3j7f/FElSRMp8iXRc4CvAFcA+4EfR8TWzHx03NL7MvOaFswoSSqgyBH6pcC+zPxZZr4C3AFsaO1YkqSpKhLoPcCTNY/3V58b7/KI2BURd0fERU2ZTpJU2KSnXICo81yOe/wQsDwzD0fEeqAfWPm6F4rYBGwC6O3tndqkkqQJFTlC3w8sq3m8FBipXZCZhzLzcPX+NmBeRCwc/0KZuSUz+zKzb9GiRacwtiRpvCKB/mNgZUS8NSLmA9cDW2sXRMTiiIjq/Uurr/tcs4eVJDU26SmXzDweEZ8A/h6YA9yWmXsi4qbq9s3AdcDHI+I4cBS4PjPHn5aRJLVQzFbu9vX15Y4dO2bld0tSp4qInZnZV2+b7xSVpJIw0CWpJAx0SSoJA12SSsJAl6SSMNAlqSQMdEkqCQNdkkrCQJekkjDQJakkDHRJKgkDXZJKwkCXpJIw0CWpJAx0SSoJA12SSsJAl6SSMNAlqSQMdEkqiUKBHhFXRcTjEbEvIj5bZ3tExJer2x+OiEuaP6okaSKTBnpEzAG+AqwD3gl8OCLeOW7ZOmBl9bYJuLXJc0qSJlHkCP1SYF9m/iwzXwHuADaMW7MBuD0rtgMLImJJk2eVJE1gboE1PcCTNY/3A+8tsKYHGK1dFBGbqBzBAxyOiMenNO1rFgLPTvNnO5X73B3c5+5wKvu8vNGGIoEedZ7LaawhM7cAWwr8zokHitiRmX2n+jqdxH3uDu5zd2jVPhc55bIfWFbzeCkwMo01kqQWKhLoPwZWRsRbI2I+cD2wddyarcAN1atdLgMOZubo+BeSJLXOpKdcMvN4RHwC+HtgDnBbZu6JiJuq2zcD24D1wD7gCHBj60YGmnDapgO5z93Bfe4OLdnnyHzdqW5JUgfynaKSVBIGuiSVRFsHejd+5ECBff5IdV8fjoh/iIiLZ2POZppsn2vW/UZEnIiI62ZyvlYoss8RsTYihiJiT0T8cKZnbLYCf7d/LSL+NiJ2Vfe51V1cS0XEbRFxICIeabC9+fmVmW15o1LA/hPwNmA+sAt457g164G7qVwHfxnwwGzPPQP7/D7gzdX767phn2vW3UOlgL9utueegT/nBcCjQG/18TmzPfcM7PPngD+r3l8EPA/Mn+3ZT2Gffwu4BHikwfam51c7H6F340cOTLrPmfkPmfmL6sPtVK7572RF/pwB/iPwbeDATA7XIkX2+XeBOzPzXwAys9P3u8g+J3BWRARwJpVAPz6zYzZPZv6Iyj400vT8audAb/RxAlNd00mmuj+/T+Vf+E426T5HRA9wLbB5BudqpSJ/zucDb46IeyNiZ0TcMGPTtUaRfb4FuJDKmxJ3A3+QmSdnZrxZ0fT8KvLW/9nStI8c6CCF9yci/g2VQP/XLZ2o9Yrs818An8nME5WDt45XZJ/nAu8BPgi8CfjHiNiemT9p9XAtUmSfrwSGgA8A5wHfi4j7MvNQi2ebLU3Pr3YO9G78yIFC+xMR7wa+BqzLzOdmaLZWKbLPfcAd1TBfCKyPiOOZ2T8jEzZf0b/bz2bmL4FfRsSPgIuBTg30Ivt8I/A/s3KCeV9EPAFcADw4MyPOuKbnVzufcunGjxyYdJ8johe4E/hoBx+t1Zp0nzPzrZm5IjNXAP8X+A8dHOZQ7O/2APCbETE3Ik6n8gmne2d4zmYqss//QuX/SIiItwDvAH42o1POrKbnV9seoWd7fuRASxXc588DZwNfrR6xHs8O/qS6gvtcKkX2OTP3RsTfAQ8DJ4GvZWbdy986QcE/5z8Bvh4Ru6mcjvhMZnbsx+pGxDeBtcDCiNgPfAGYB63LL9/6L0kl0c6nXCRJU2CgS1JJGOiSVBIGuiSVhIEuSSVhoEtSSRjoklQS/x85wbCy7sdWBQAAAABJRU5ErkJggg==\n",
          "text/plain": "<Figure size 432x288 with 1 Axes>"
         },
         "metadata": {
          "needs_background": "light"
         },
         "output_type": "display_data"
        }
       ]
      }
     },
     "17b0f94399624dac9b3a262a013c2558": {
      "model_module": "@jupyter-widgets/base",
      "model_module_version": "1.2.0",
      "model_name": "LayoutModel",
      "state": {}
     },
     "1e7357cf1a934b42ba457f4de7dca193": {
      "model_module": "@jupyter-widgets/output",
      "model_module_version": "1.0.0",
      "model_name": "OutputModel",
      "state": {
       "_dom_classes": [
        "output_scroll_disabled"
       ],
       "err_stop": true,
       "layout": "IPY_MODEL_024fa8cbe21d401fb362d34ef6769fa5",
       "outputs": [
        {
         "data": {
          "image/png": "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\n",
          "text/plain": "<Figure size 432x288 with 1 Axes>"
         },
         "metadata": {
          "needs_background": "light"
         },
         "output_type": "display_data"
        }
       ]
      }
     },
     "25df5e5f9dd149e79b4ad1db75094fba": {
      "model_module": "@jupyter-widgets/output",
      "model_module_version": "1.0.0",
      "model_name": "OutputModel",
      "state": {
       "_dom_classes": [
        "output_scroll_disabled"
       ],
       "err_stop": true,
       "layout": "IPY_MODEL_dec10c3621a641c08ca748fa1f07edc3",
       "outputs": [
        {
         "data": {
          "text/html": "<h3>item 1</h3>",
          "text/plain": "<IPython.core.display.HTML object>"
         },
         "metadata": {},
         "output_type": "display_data"
        }
       ]
      }
     },
     "266e80e129e54a4dad880a7a8c8bad7f": {
      "model_module": "@jupyter-widgets/base",
      "model_module_version": "1.2.0",
      "model_name": "LayoutModel",
      "state": {}
     },
     "280d3fe2e6ea47cbaea1e2c0ecebddf0": {
      "model_module": "@jupyter-widgets/output",
      "model_module_version": "1.0.0",
      "model_name": "OutputModel",
      "state": {
       "_dom_classes": [
        "output_scroll_disabled"
       ],
       "err_stop": true,
       "layout": "IPY_MODEL_024fa8cbe21d401fb362d34ef6769fa5",
       "outputs": [
        {
         "data": {
          "image/png": "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\n",
          "text/plain": "<Figure size 432x288 with 1 Axes>"
         },
         "metadata": {
          "needs_background": "light"
         },
         "output_type": "display_data"
        }
       ]
      }
     },
     "28b6a03af20c43a8b00f54c72735fcac": {
      "model_module": "@jupyter-widgets/output",
      "model_module_version": "1.0.0",
      "model_name": "OutputModel",
      "state": {
       "_dom_classes": [
        "output_scroll_disabled"
       ],
       "err_stop": true,
       "layout": "IPY_MODEL_d0a32d6da92f45e7adf1bee47a0ea5fe",
       "outputs": [
        {
         "data": {
          "text/html": "<h1>Tabs</h1>",
          "text/plain": "<IPython.core.display.HTML object>"
         },
         "metadata": {},
         "output_type": "display_data"
        }
       ]
      }
     },
     "2b73f8ab912c4d23a84ee4eec3c7f0d3": {
      "model_module": "@jupyter-widgets/controls",
      "model_module_version": "1.5.0",
      "model_name": "BoxModel",
      "state": {
       "children": [
        "IPY_MODEL_bcb00db19bad4cbd957b4cebecba643c",
        "IPY_MODEL_d4fd2aac5d83418b8db5138f0c1cdc19",
        "IPY_MODEL_52450c9ae5c145799ade959163b37613",
        "IPY_MODEL_b2339fb23bcd4533bcbee7a4fb2264cc",
        "IPY_MODEL_3197582ebe19485eab4bd66292803b99",
        "IPY_MODEL_5d60eb36aabe4e06998ccca658d528af"
       ]
      }
     },
     "2ce4909c1420442b992260284247e25a": {
      "model_module": "@jupyter-widgets/controls",
      "model_module_version": "1.5.0",
      "model_name": "BoxModel",
      "state": {}
     },
     "2e1eb4598e6c44b08630e0fecbf6b8f6": {
      "model_module": "@jupyter-widgets/output",
      "model_module_version": "1.0.0",
      "model_name": "OutputModel",
      "state": {
       "_dom_classes": [
        "output_scroll_disabled"
       ],
       "err_stop": true,
       "layout": "IPY_MODEL_80108e68e65049efb8415eff58551f95",
       "outputs": [
        {
         "data": {
          "text/html": "<h3>item 4</h3>",
          "text/plain": "<IPython.core.display.HTML object>"
         },
         "metadata": {},
         "output_type": "display_data"
        }
       ]
      }
     },
     "2e71f1b1e72c43888363bd9286810435": {
      "model_module": "@jupyter-widgets/output",
      "model_module_version": "1.0.0",
      "model_name": "OutputModel",
      "state": {
       "_dom_classes": [
        "output_scroll_disabled"
       ],
       "err_stop": true,
       "layout": "IPY_MODEL_024fa8cbe21d401fb362d34ef6769fa5",
       "outputs": [
        {
         "data": {
          "image/png": "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\n",
          "text/plain": "<Figure size 432x288 with 1 Axes>"
         },
         "metadata": {
          "needs_background": "light"
         },
         "output_type": "display_data"
        }
       ]
      }
     },
     "3197582ebe19485eab4bd66292803b99": {
      "model_module": "@jupyter-widgets/controls",
      "model_module_version": "1.5.0",
      "model_name": "VBoxModel",
      "state": {
       "children": [
        "IPY_MODEL_2e1eb4598e6c44b08630e0fecbf6b8f6",
        "IPY_MODEL_8e93a8997f96495f895122a1cf664430"
       ],
       "layout": "IPY_MODEL_3ad14e7f62e645d99339ab35e84537a3"
      }
     },
     "32ef3224a64447418e0d99ea8b99733d": {
      "model_module": "@jupyter-widgets/output",
      "model_module_version": "1.0.0",
      "model_name": "OutputModel",
      "state": {
       "_dom_classes": [
        "output_scroll_disabled"
       ],
       "err_stop": true,
       "layout": "IPY_MODEL_024fa8cbe21d401fb362d34ef6769fa5",
       "outputs": [
        {
         "data": {
          "image/png": "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\n",
          "text/plain": "<Figure size 432x288 with 1 Axes>"
         },
         "metadata": {
          "needs_background": "light"
         },
         "output_type": "display_data"
        }
       ]
      }
     },
     "34fffa343a784900990f2e0fa100909c": {
      "model_module": "@jupyter-widgets/controls",
      "model_module_version": "1.5.0",
      "model_name": "AccordionModel",
      "state": {
       "_titles": {
        "0": "Item 0",
        "1": "Item 1",
        "2": "Item 2",
        "3": "Item 3",
        "4": "Item 4",
        "5": "Item 5"
       },
       "children": [
        "IPY_MODEL_53a20466448949a5b93cb1c0922b0420",
        "IPY_MODEL_58102b107ff94f7f97b25be410e390a8",
        "IPY_MODEL_bb66b25d81624cf0afda51f7672d8f9e",
        "IPY_MODEL_a26957b740a748c0bbeea5f310d3c4e4",
        "IPY_MODEL_3c43057bd9be45a0b28940be9a1a1bf0",
        "IPY_MODEL_32ef3224a64447418e0d99ea8b99733d"
       ],
       "layout": "IPY_MODEL_17b0f94399624dac9b3a262a013c2558",
       "selected_index": null
      }
     },
     "3645d65c0ee044cea61510b4dd85a113": {
      "model_module": "@jupyter-widgets/base",
      "model_module_version": "1.2.0",
      "model_name": "LayoutModel",
      "state": {
       "display": "flex",
       "overflow_x": "auto"
      }
     },
     "399ade7498754f8f915ff69b4482133d": {
      "model_module": "@jupyter-widgets/base",
      "model_module_version": "1.2.0",
      "model_name": "LayoutModel",
      "state": {}
     },
     "39edc6cd6898472bbb1735bb30b598f6": {
      "model_module": "@jupyter-widgets/base",
      "model_module_version": "1.2.0",
      "model_name": "LayoutModel",
      "state": {}
     },
     "3ad14e7f62e645d99339ab35e84537a3": {
      "model_module": "@jupyter-widgets/base",
      "model_module_version": "1.2.0",
      "model_name": "LayoutModel",
      "state": {
       "flex": "1 0 auto"
      }
     },
     "3c43057bd9be45a0b28940be9a1a1bf0": {
      "model_module": "@jupyter-widgets/output",
      "model_module_version": "1.0.0",
      "model_name": "OutputModel",
      "state": {
       "_dom_classes": [
        "output_scroll_disabled"
       ],
       "err_stop": true,
       "layout": "IPY_MODEL_024fa8cbe21d401fb362d34ef6769fa5",
       "outputs": [
        {
         "data": {
          "image/png": "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\n",
          "text/plain": "<Figure size 432x288 with 1 Axes>"
         },
         "metadata": {
          "needs_background": "light"
         },
         "output_type": "display_data"
        }
       ]
      }
     },
     "41726c3c2b9c4db4a64a10677c45f6a9": {
      "model_module": "@jupyter-widgets/output",
      "model_module_version": "1.0.0",
      "model_name": "OutputModel",
      "state": {
       "_dom_classes": [
        "output_scroll_disabled"
       ],
       "err_stop": true,
       "layout": "IPY_MODEL_024fa8cbe21d401fb362d34ef6769fa5",
       "outputs": [
        {
         "data": {
          "image/png": "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\n",
          "text/plain": "<Figure size 432x288 with 1 Axes>"
         },
         "metadata": {
          "needs_background": "light"
         },
         "output_type": "display_data"
        }
       ]
      }
     },
     "448ba7ac455e4114adb10764d858f8e8": {
      "model_module": "@jupyter-widgets/output",
      "model_module_version": "1.0.0",
      "model_name": "OutputModel",
      "state": {
       "_dom_classes": [
        "output_scroll_disabled"
       ],
       "err_stop": true,
       "layout": "IPY_MODEL_024fa8cbe21d401fb362d34ef6769fa5",
       "outputs": [
        {
         "data": {
          "image/png": "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\n",
          "text/plain": "<Figure size 432x288 with 1 Axes>"
         },
         "metadata": {
          "needs_background": "light"
         },
         "output_type": "display_data"
        }
       ]
      }
     },
     "49a500dbc5d7444ab463671870969b69": {
      "model_module": "@jupyter-widgets/output",
      "model_module_version": "1.0.0",
      "model_name": "OutputModel",
      "state": {
       "_dom_classes": [
        "output_scroll_disabled"
       ],
       "err_stop": true,
       "layout": "IPY_MODEL_fff044ba13a2470f807d5f063c428fec",
       "outputs": [
        {
         "data": {
          "text/html": "<h3>item 0</h3>",
          "text/plain": "<IPython.core.display.HTML object>"
         },
         "metadata": {},
         "output_type": "display_data"
        }
       ]
      }
     },
     "4ac61636d7474125a967394edf7ee525": {
      "model_module": "@jupyter-widgets/base",
      "model_module_version": "1.2.0",
      "model_name": "LayoutModel",
      "state": {}
     },
     "4e2ae6e62c824c2c9b253ac2c1322783": {
      "model_module": "@jupyter-widgets/controls",
      "model_module_version": "1.5.0",
      "model_name": "AccordionModel",
      "state": {
       "_titles": {
        "0": "see: 0",
        "1": "see: 1",
        "2": "see: 2",
        "3": "see: 3",
        "4": "see: 4",
        "5": "see: 5"
       },
       "children": [
        "IPY_MODEL_2e71f1b1e72c43888363bd9286810435",
        "IPY_MODEL_1e7357cf1a934b42ba457f4de7dca193",
        "IPY_MODEL_c9d1474092a241d2a41664b1100e879e",
        "IPY_MODEL_280d3fe2e6ea47cbaea1e2c0ecebddf0",
        "IPY_MODEL_e5354334a90a4ac0b1937c5f19681cfb",
        "IPY_MODEL_a0737193648645db886b0ddb4085532d"
       ],
       "layout": "IPY_MODEL_7780cfe00d47466f98a91a640f1891af",
       "selected_index": null
      }
     },
     "4fd183fa7add40c3a7ee3270e5e421e2": {
      "model_module": "@jupyter-widgets/output",
      "model_module_version": "1.0.0",
      "model_name": "OutputModel",
      "state": {
       "_dom_classes": [
        "output_scroll_disabled"
       ],
       "err_stop": true,
       "layout": "IPY_MODEL_3ad14e7f62e645d99339ab35e84537a3",
       "outputs": [
        {
         "data": {
          "image/png": "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\n",
          "text/plain": "<Figure size 432x288 with 1 Axes>"
         },
         "metadata": {
          "needs_background": "light"
         },
         "output_type": "display_data"
        }
       ]
      }
     },
     "51fe4dfab53b4350acb696f6d543632f": {
      "model_module": "@jupyter-widgets/base",
      "model_module_version": "1.2.0",
      "model_name": "LayoutModel",
      "state": {}
     },
     "52450c9ae5c145799ade959163b37613": {
      "model_module": "@jupyter-widgets/controls",
      "model_module_version": "1.5.0",
      "model_name": "VBoxModel",
      "state": {
       "children": [
        "IPY_MODEL_bf26ced372c54efb84f8c293a876cf72",
        "IPY_MODEL_deea57801819445da58004a8d8e3baf9"
       ],
       "layout": "IPY_MODEL_3ad14e7f62e645d99339ab35e84537a3"
      }
     },
     "53a20466448949a5b93cb1c0922b0420": {
      "model_module": "@jupyter-widgets/output",
      "model_module_version": "1.0.0",
      "model_name": "OutputModel",
      "state": {
       "_dom_classes": [
        "output_scroll_disabled"
       ],
       "err_stop": true,
       "layout": "IPY_MODEL_024fa8cbe21d401fb362d34ef6769fa5",
       "outputs": [
        {
         "data": {
          "image/png": "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\n",
          "text/plain": "<Figure size 432x288 with 1 Axes>"
         },
         "metadata": {
          "needs_background": "light"
         },
         "output_type": "display_data"
        }
       ]
      }
     },
     "58102b107ff94f7f97b25be410e390a8": {
      "model_module": "@jupyter-widgets/output",
      "model_module_version": "1.0.0",
      "model_name": "OutputModel",
      "state": {
       "_dom_classes": [
        "output_scroll_disabled"
       ],
       "err_stop": true,
       "layout": "IPY_MODEL_024fa8cbe21d401fb362d34ef6769fa5",
       "outputs": [
        {
         "data": {
          "image/png": "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\n",
          "text/plain": "<Figure size 432x288 with 1 Axes>"
         },
         "metadata": {
          "needs_background": "light"
         },
         "output_type": "display_data"
        }
       ]
      }
     },
     "5d60eb36aabe4e06998ccca658d528af": {
      "model_module": "@jupyter-widgets/controls",
      "model_module_version": "1.5.0",
      "model_name": "VBoxModel",
      "state": {
       "children": [
        "IPY_MODEL_05098f9135564f25b4a0143f5d988633",
        "IPY_MODEL_5e076354817d461493197fc54b57971d"
       ],
       "layout": "IPY_MODEL_3ad14e7f62e645d99339ab35e84537a3"
      }
     },
     "5e076354817d461493197fc54b57971d": {
      "model_module": "@jupyter-widgets/output",
      "model_module_version": "1.0.0",
      "model_name": "OutputModel",
      "state": {
       "_dom_classes": [
        "output_scroll_disabled"
       ],
       "err_stop": true,
       "layout": "IPY_MODEL_b9a2ca28453b41638378e7726262c751",
       "outputs": [
        {
         "data": {
          "image/png": "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\n",
          "text/plain": "<Figure size 432x288 with 1 Axes>"
         },
         "metadata": {
          "needs_background": "light"
         },
         "output_type": "display_data"
        }
       ]
      }
     },
     "5f6bd17f09be48809bc9588b1833ddfe": {
      "model_module": "@jupyter-widgets/output",
      "model_module_version": "1.0.0",
      "model_name": "OutputModel",
      "state": {
       "_dom_classes": [
        "output_scroll_disabled"
       ],
       "err_stop": true,
       "layout": "IPY_MODEL_3ad14e7f62e645d99339ab35e84537a3",
       "outputs": [
        {
         "data": {
          "image/png": "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\n",
          "text/plain": "<Figure size 432x288 with 1 Axes>"
         },
         "metadata": {
          "needs_background": "light"
         },
         "output_type": "display_data"
        }
       ]
      }
     },
     "63c1e88013b145ab953ad8ce3dd98a27": {
      "model_module": "@jupyter-widgets/output",
      "model_module_version": "1.0.0",
      "model_name": "OutputModel",
      "state": {
       "_dom_classes": [
        "output_scroll_disabled"
       ],
       "err_stop": true,
       "layout": "IPY_MODEL_3ad14e7f62e645d99339ab35e84537a3",
       "outputs": [
        {
         "data": {
          "image/png": "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\n",
          "text/plain": "<Figure size 432x288 with 1 Axes>"
         },
         "metadata": {
          "needs_background": "light"
         },
         "output_type": "display_data"
        }
       ]
      }
     },
     "6ac57a152d754ed59aa774064a4dfd0f": {
      "model_module": "@jupyter-widgets/output",
      "model_module_version": "1.0.0",
      "model_name": "OutputModel",
      "state": {
       "_dom_classes": [
        "output_scroll_disabled"
       ],
       "err_stop": true,
       "layout": "IPY_MODEL_bacb86f30a294c47ba11385f5e35da9e",
       "outputs": [
        {
         "data": {
          "text/html": "<h3>item 3</h3>",
          "text/plain": "<IPython.core.display.HTML object>"
         },
         "metadata": {},
         "output_type": "display_data"
        }
       ]
      }
     },
     "7032862bad5743e384fa009fce74f0cd": {
      "model_module": "@jupyter-widgets/base",
      "model_module_version": "1.2.0",
      "model_name": "LayoutModel",
      "state": {
       "flex_flow": "row nowrap",
       "max_width": "100%",
       "overflow_x": "auto",
       "overflow_y": "visible"
      }
     },
     "764544e830184dce871e891c1bc777f9": {
      "model_module": "@jupyter-widgets/output",
      "model_module_version": "1.0.0",
      "model_name": "OutputModel",
      "state": {
       "_dom_classes": [
        "output_scroll_disabled"
       ],
       "err_stop": true,
       "layout": "IPY_MODEL_3ad14e7f62e645d99339ab35e84537a3",
       "outputs": [
        {
         "data": {
          "image/png": "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\n",
          "text/plain": "<Figure size 432x288 with 1 Axes>"
         },
         "metadata": {
          "needs_background": "light"
         },
         "output_type": "display_data"
        }
       ]
      }
     },
     "7780cfe00d47466f98a91a640f1891af": {
      "model_module": "@jupyter-widgets/base",
      "model_module_version": "1.2.0",
      "model_name": "LayoutModel",
      "state": {}
     },
     "7bfb286a7c004c21b673aa6e652f12a9": {
      "model_module": "@jupyter-widgets/output",
      "model_module_version": "1.0.0",
      "model_name": "OutputModel",
      "state": {
       "_dom_classes": [
        "output_scroll_disabled"
       ],
       "err_stop": true,
       "layout": "IPY_MODEL_51fe4dfab53b4350acb696f6d543632f",
       "outputs": [
        {
         "data": {
          "text/html": "<h1>Carousel</h1>",
          "text/plain": "<IPython.core.display.HTML object>"
         },
         "metadata": {},
         "output_type": "display_data"
        }
       ]
      }
     },
     "80108e68e65049efb8415eff58551f95": {
      "model_module": "@jupyter-widgets/base",
      "model_module_version": "1.2.0",
      "model_name": "LayoutModel",
      "state": {}
     },
     "8571616aafac43e58ac5db95abd50c93": {
      "model_module": "@jupyter-widgets/controls",
      "model_module_version": "1.5.0",
      "model_name": "BoxModel",
      "state": {
       "children": [
        "IPY_MODEL_764544e830184dce871e891c1bc777f9"
       ]
      }
     },
     "8834d5d2ff8c4b0daf24dd147a59a965": {
      "model_module": "@jupyter-widgets/controls",
      "model_module_version": "1.5.0",
      "model_name": "BoxModel",
      "state": {
       "children": [
        "IPY_MODEL_d5f973356fa94d9cb6b17c6c43c7fb28"
       ]
      }
     },
     "8e93a8997f96495f895122a1cf664430": {
      "model_module": "@jupyter-widgets/output",
      "model_module_version": "1.0.0",
      "model_name": "OutputModel",
      "state": {
       "_dom_classes": [
        "output_scroll_disabled"
       ],
       "err_stop": true,
       "layout": "IPY_MODEL_91197b53591f44428dbb4e29a76d9cb1",
       "outputs": [
        {
         "data": {
          "image/png": "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\n",
          "text/plain": "<Figure size 432x288 with 1 Axes>"
         },
         "metadata": {
          "needs_background": "light"
         },
         "output_type": "display_data"
        }
       ]
      }
     },
     "8e9a413ba93c4bf58b8fa7f1a9af88a5": {
      "model_module": "@jupyter-widgets/controls",
      "model_module_version": "1.5.0",
      "model_name": "BoxModel",
      "state": {}
     },
     "8faf774b81b5408c904dc0128f9f9fb1": {
      "model_module": "@jupyter-widgets/output",
      "model_module_version": "1.0.0",
      "model_name": "OutputModel",
      "state": {
       "_dom_classes": [
        "output_scroll_disabled"
       ],
       "err_stop": true,
       "layout": "IPY_MODEL_3ad14e7f62e645d99339ab35e84537a3",
       "outputs": [
        {
         "data": {
          "image/png": "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\n",
          "text/plain": "<Figure size 432x288 with 1 Axes>"
         },
         "metadata": {
          "needs_background": "light"
         },
         "output_type": "display_data"
        }
       ]
      }
     },
     "9028408e89154ccaaa089f207e7bf1f3": {
      "model_module": "@jupyter-widgets/output",
      "model_module_version": "1.0.0",
      "model_name": "OutputModel",
      "state": {
       "_dom_classes": [
        "output_scroll_disabled"
       ],
       "err_stop": true,
       "layout": "IPY_MODEL_3ad14e7f62e645d99339ab35e84537a3",
       "outputs": [
        {
         "data": {
          "image/png": "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\n",
          "text/plain": "<Figure size 432x288 with 1 Axes>"
         },
         "metadata": {
          "needs_background": "light"
         },
         "output_type": "display_data"
        }
       ]
      }
     },
     "91197b53591f44428dbb4e29a76d9cb1": {
      "model_module": "@jupyter-widgets/base",
      "model_module_version": "1.2.0",
      "model_name": "LayoutModel",
      "state": {}
     },
     "93cf109241ef400b94c197f596d84eb0": {
      "model_module": "@jupyter-widgets/base",
      "model_module_version": "1.2.0",
      "model_name": "LayoutModel",
      "state": {}
     },
     "a0737193648645db886b0ddb4085532d": {
      "model_module": "@jupyter-widgets/output",
      "model_module_version": "1.0.0",
      "model_name": "OutputModel",
      "state": {
       "_dom_classes": [
        "output_scroll_disabled"
       ],
       "err_stop": true,
       "layout": "IPY_MODEL_024fa8cbe21d401fb362d34ef6769fa5",
       "outputs": [
        {
         "data": {
          "image/png": "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\n",
          "text/plain": "<Figure size 432x288 with 1 Axes>"
         },
         "metadata": {
          "needs_background": "light"
         },
         "output_type": "display_data"
        }
       ]
      }
     },
     "a26957b740a748c0bbeea5f310d3c4e4": {
      "model_module": "@jupyter-widgets/output",
      "model_module_version": "1.0.0",
      "model_name": "OutputModel",
      "state": {
       "_dom_classes": [
        "output_scroll_disabled"
       ],
       "err_stop": true,
       "layout": "IPY_MODEL_024fa8cbe21d401fb362d34ef6769fa5",
       "outputs": [
        {
         "data": {
          "image/png": "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\n",
          "text/plain": "<Figure size 432x288 with 1 Axes>"
         },
         "metadata": {
          "needs_background": "light"
         },
         "output_type": "display_data"
        }
       ]
      }
     },
     "a2780ef9d22d4c10a107cb634a7a8339": {
      "model_module": "@jupyter-widgets/controls",
      "model_module_version": "1.5.0",
      "model_name": "BoxModel",
      "state": {
       "children": [
        "IPY_MODEL_c151503e34ce4efd96bea869a58dbf60",
        "IPY_MODEL_158ebb4d63d84a7694667ca330da8f41",
        "IPY_MODEL_4fd183fa7add40c3a7ee3270e5e421e2",
        "IPY_MODEL_a42dc6a2c0cd4e1db3d02ea81eb92e09",
        "IPY_MODEL_de9761af46c7471eaad21943af0c4476",
        "IPY_MODEL_8faf774b81b5408c904dc0128f9f9fb1"
       ]
      }
     },
     "a42dc6a2c0cd4e1db3d02ea81eb92e09": {
      "model_module": "@jupyter-widgets/output",
      "model_module_version": "1.0.0",
      "model_name": "OutputModel",
      "state": {
       "_dom_classes": [
        "output_scroll_disabled"
       ],
       "err_stop": true,
       "layout": "IPY_MODEL_3ad14e7f62e645d99339ab35e84537a3",
       "outputs": [
        {
         "data": {
          "image/png": "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\n",
          "text/plain": "<Figure size 432x288 with 1 Axes>"
         },
         "metadata": {
          "needs_background": "light"
         },
         "output_type": "display_data"
        }
       ]
      }
     },
     "a45d3434717e429a87790d99219fb53d": {
      "model_module": "@jupyter-widgets/output",
      "model_module_version": "1.0.0",
      "model_name": "OutputModel",
      "state": {
       "_dom_classes": [
        "output_scroll_disabled"
       ],
       "err_stop": true,
       "layout": "IPY_MODEL_3ad14e7f62e645d99339ab35e84537a3",
       "outputs": [
        {
         "data": {
          "image/png": "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\n",
          "text/plain": "<Figure size 432x288 with 1 Axes>"
         },
         "metadata": {
          "needs_background": "light"
         },
         "output_type": "display_data"
        }
       ]
      }
     },
     "afbef2245cd2443f9c833f9b79578ba8": {
      "model_module": "@jupyter-widgets/base",
      "model_module_version": "1.2.0",
      "model_name": "LayoutModel",
      "state": {}
     },
     "b2339fb23bcd4533bcbee7a4fb2264cc": {
      "model_module": "@jupyter-widgets/controls",
      "model_module_version": "1.5.0",
      "model_name": "VBoxModel",
      "state": {
       "children": [
        "IPY_MODEL_6ac57a152d754ed59aa774064a4dfd0f",
        "IPY_MODEL_ff666c1f85d44d988bb760548e2b1476"
       ],
       "layout": "IPY_MODEL_3ad14e7f62e645d99339ab35e84537a3"
      }
     },
     "b5abb5284e614ac795fadcbc58ffbfc2": {
      "model_module": "@jupyter-widgets/controls",
      "model_module_version": "1.5.0",
      "model_name": "BoxModel",
      "state": {}
     },
     "b6181723b6a1485596912a2808b88b6a": {
      "model_module": "@jupyter-widgets/base",
      "model_module_version": "1.2.0",
      "model_name": "LayoutModel",
      "state": {}
     },
     "b9246f6471ac4667a3af317fda200bd5": {
      "model_module": "@jupyter-widgets/output",
      "model_module_version": "1.0.0",
      "model_name": "OutputModel",
      "state": {
       "_dom_classes": [
        "output_scroll_disabled"
       ],
       "err_stop": true,
       "layout": "IPY_MODEL_266e80e129e54a4dad880a7a8c8bad7f",
       "outputs": [
        {
         "data": {
          "image/png": "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\n",
          "text/plain": "<Figure size 432x288 with 1 Axes>"
         },
         "metadata": {
          "needs_background": "light"
         },
         "output_type": "display_data"
        }
       ]
      }
     },
     "b9a2ca28453b41638378e7726262c751": {
      "model_module": "@jupyter-widgets/base",
      "model_module_version": "1.2.0",
      "model_name": "LayoutModel",
      "state": {}
     },
     "bacb86f30a294c47ba11385f5e35da9e": {
      "model_module": "@jupyter-widgets/base",
      "model_module_version": "1.2.0",
      "model_name": "LayoutModel",
      "state": {}
     },
     "bb66b25d81624cf0afda51f7672d8f9e": {
      "model_module": "@jupyter-widgets/output",
      "model_module_version": "1.0.0",
      "model_name": "OutputModel",
      "state": {
       "_dom_classes": [
        "output_scroll_disabled"
       ],
       "err_stop": true,
       "layout": "IPY_MODEL_024fa8cbe21d401fb362d34ef6769fa5",
       "outputs": [
        {
         "data": {
          "image/png": "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\n",
          "text/plain": "<Figure size 432x288 with 1 Axes>"
         },
         "metadata": {
          "needs_background": "light"
         },
         "output_type": "display_data"
        }
       ]
      }
     },
     "bcb00db19bad4cbd957b4cebecba643c": {
      "model_module": "@jupyter-widgets/controls",
      "model_module_version": "1.5.0",
      "model_name": "VBoxModel",
      "state": {
       "children": [
        "IPY_MODEL_49a500dbc5d7444ab463671870969b69",
        "IPY_MODEL_f6151d49d7c54d9d870e217c8a868e39"
       ],
       "layout": "IPY_MODEL_3ad14e7f62e645d99339ab35e84537a3"
      }
     },
     "bf26ced372c54efb84f8c293a876cf72": {
      "model_module": "@jupyter-widgets/output",
      "model_module_version": "1.0.0",
      "model_name": "OutputModel",
      "state": {
       "_dom_classes": [
        "output_scroll_disabled"
       ],
       "err_stop": true,
       "layout": "IPY_MODEL_fe26b3a121904e6e8f71e256e07adf8d",
       "outputs": [
        {
         "data": {
          "text/html": "<h3>item 2</h3>",
          "text/plain": "<IPython.core.display.HTML object>"
         },
         "metadata": {},
         "output_type": "display_data"
        }
       ]
      }
     },
     "c151503e34ce4efd96bea869a58dbf60": {
      "model_module": "@jupyter-widgets/output",
      "model_module_version": "1.0.0",
      "model_name": "OutputModel",
      "state": {
       "_dom_classes": [
        "output_scroll_disabled"
       ],
       "err_stop": true,
       "layout": "IPY_MODEL_3ad14e7f62e645d99339ab35e84537a3",
       "outputs": [
        {
         "data": {
          "image/png": "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\n",
          "text/plain": "<Figure size 432x288 with 1 Axes>"
         },
         "metadata": {
          "needs_background": "light"
         },
         "output_type": "display_data"
        }
       ]
      }
     },
     "c9c8ae8be0364645b29588c688c0fcdf": {
      "model_module": "@jupyter-widgets/output",
      "model_module_version": "1.0.0",
      "model_name": "OutputModel",
      "state": {
       "_dom_classes": [
        "output_scroll_disabled"
       ],
       "err_stop": true,
       "layout": "IPY_MODEL_024fa8cbe21d401fb362d34ef6769fa5",
       "outputs": [
        {
         "data": {
          "image/png": "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\n",
          "text/plain": "<Figure size 432x288 with 1 Axes>"
         },
         "metadata": {
          "needs_background": "light"
         },
         "output_type": "display_data"
        }
       ]
      }
     },
     "c9d1474092a241d2a41664b1100e879e": {
      "model_module": "@jupyter-widgets/output",
      "model_module_version": "1.0.0",
      "model_name": "OutputModel",
      "state": {
       "_dom_classes": [
        "output_scroll_disabled"
       ],
       "err_stop": true,
       "layout": "IPY_MODEL_024fa8cbe21d401fb362d34ef6769fa5",
       "outputs": [
        {
         "data": {
          "image/png": "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\n",
          "text/plain": "<Figure size 432x288 with 1 Axes>"
         },
         "metadata": {
          "needs_background": "light"
         },
         "output_type": "display_data"
        }
       ]
      }
     },
     "d0a32d6da92f45e7adf1bee47a0ea5fe": {
      "model_module": "@jupyter-widgets/base",
      "model_module_version": "1.2.0",
      "model_name": "LayoutModel",
      "state": {}
     },
     "d4fd2aac5d83418b8db5138f0c1cdc19": {
      "model_module": "@jupyter-widgets/controls",
      "model_module_version": "1.5.0",
      "model_name": "VBoxModel",
      "state": {
       "children": [
        "IPY_MODEL_25df5e5f9dd149e79b4ad1db75094fba",
        "IPY_MODEL_06e88ca24b6a4871bd826c8c78363160"
       ],
       "layout": "IPY_MODEL_3ad14e7f62e645d99339ab35e84537a3"
      }
     },
     "d5f973356fa94d9cb6b17c6c43c7fb28": {
      "model_module": "@jupyter-widgets/output",
      "model_module_version": "1.0.0",
      "model_name": "OutputModel",
      "state": {
       "_dom_classes": [
        "output_scroll_disabled"
       ],
       "err_stop": true,
       "layout": "IPY_MODEL_3ad14e7f62e645d99339ab35e84537a3",
       "outputs": [
        {
         "data": {
          "image/png": "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\n",
          "text/plain": "<Figure size 432x288 with 1 Axes>"
         },
         "metadata": {
          "needs_background": "light"
         },
         "output_type": "display_data"
        }
       ]
      }
     },
     "da3fdfbeae7e405c8c5eea51ea347106": {
      "model_module": "@jupyter-widgets/output",
      "model_module_version": "1.0.0",
      "model_name": "OutputModel",
      "state": {
       "_dom_classes": [
        "output_scroll_disabled"
       ],
       "err_stop": true,
       "layout": "IPY_MODEL_024fa8cbe21d401fb362d34ef6769fa5",
       "outputs": [
        {
         "data": {
          "image/png": "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\n",
          "text/plain": "<Figure size 432x288 with 1 Axes>"
         },
         "metadata": {
          "needs_background": "light"
         },
         "output_type": "display_data"
        }
       ]
      }
     },
     "dbbf391eecf04c33b6bacbf6660e0fdf": {
      "model_module": "@jupyter-widgets/output",
      "model_module_version": "1.0.0",
      "model_name": "OutputModel",
      "state": {
       "_dom_classes": [
        "output_scroll_disabled"
       ],
       "err_stop": true,
       "layout": "IPY_MODEL_024fa8cbe21d401fb362d34ef6769fa5",
       "outputs": [
        {
         "data": {
          "image/png": "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\n",
          "text/plain": "<Figure size 432x288 with 1 Axes>"
         },
         "metadata": {
          "needs_background": "light"
         },
         "output_type": "display_data"
        }
       ]
      }
     },
     "de7791e8f21747b8b68a1c61b5b7b37a": {
      "model_module": "@jupyter-widgets/controls",
      "model_module_version": "1.5.0",
      "model_name": "TabModel",
      "state": {
       "_titles": {
        "0": "this is tab 0",
        "1": "this is tab 1",
        "2": "this is tab 2",
        "3": "this is tab 3",
        "4": "this is tab 4",
        "5": "this is tab 5"
       },
       "children": [
        "IPY_MODEL_da3fdfbeae7e405c8c5eea51ea347106",
        "IPY_MODEL_448ba7ac455e4114adb10764d858f8e8",
        "IPY_MODEL_c9c8ae8be0364645b29588c688c0fcdf",
        "IPY_MODEL_0aae529bba9d41f9bbe72f6b98a8932e",
        "IPY_MODEL_41726c3c2b9c4db4a64a10677c45f6a9",
        "IPY_MODEL_e5d33fffe79f4f77aa9714b432b5607a"
       ],
       "layout": "IPY_MODEL_4ac61636d7474125a967394edf7ee525",
       "selected_index": 5
      }
     },
     "de9761af46c7471eaad21943af0c4476": {
      "model_module": "@jupyter-widgets/output",
      "model_module_version": "1.0.0",
      "model_name": "OutputModel",
      "state": {
       "_dom_classes": [
        "output_scroll_disabled"
       ],
       "err_stop": true,
       "layout": "IPY_MODEL_3ad14e7f62e645d99339ab35e84537a3",
       "outputs": [
        {
         "data": {
          "image/png": "iVBORw0KGgoAAAANSUhEUgAAAXQAAAEICAYAAABPgw/pAAAAOXRFWHRTb2Z0d2FyZQBNYXRwbG90bGliIHZlcnNpb24zLjMuMiwgaHR0cHM6Ly9tYXRwbG90bGliLm9yZy8vihELAAAACXBIWXMAAAsTAAALEwEAmpwYAAAWOklEQVR4nO3dfYxd9Z3f8ffXT2Ds8cPiwTOxPcELxmMSlYdMCSTbimRTLbiodCUqkd0uKmplkSYVq27V3eaPRNuqVfef1SZLgmtlUZY2Aa02NEtTs6tIEYFsCo7N8mQ8pobdgOuxsSHx+IEAY779454ZX8Z35p47c+88nHm/pCvfe85v7v3+NNbHx7/vOedGZiJJmv8WzXYBkqT2MNAlqSIMdEmqCANdkirCQJekijDQJakiDHQtKBGxPyJunu06pE4Iz0OXyomIHwCfApZm5shs1yON5xG6VEJE/CawZLbrkCZjoGtBiYi/i4jPtPgzq4EvA/++M1VJ7WGga0GKiN+IiJ9P8uirG/5fgPuBo7NUrlSK/4XUgpSZ3wa+3WxcRAwAnwTuBTZ2ui5pOjxClyYQEYuArwP32gTVfOBZLlpQIuLvgH8FrAf+2yRDrwaGgbeAN4pti4F1wDHgn2Xmk52rVGqdSy5akDLzW8C3JhsTEQF8qG7TJmAP8DHgeOeqk6bGQJcmkLX/vo41QiPi4uLpMZdgNBe55CJJFWFTVJIqonSgR8TiiPibiPheg30REV+NiEMR8XxEXN/eMiVJzbRyhH4vcGCCfbcCW4rHDmoXYUiSZlCpQI+IjcA/Br4xwZDbgQez5ilgTUT0tqlGSVIJZc9y+SNq97HommD/BuD1uteHi21D9YMiYge1I3hWrFjxsf7+/lZqlaQFb9++fScys7vRvqaBHhG3AW9k5r5J7iMdDbZdcPpMZu4CdgEMDAzk3r17m328JKlORPx0on1lllw+CfyT4gq7h4FPR8T/GDfmMLWLLkZtBI60WKckaRqaBnpm/ofM3JiZlwN3Aj/IzH8+btijwF3F2S43Aiczc2j8e0mSOmfKV4pGxD0AmbkT2A1sBw4BZ4G721KdJKm0lgI9Mx8HHi+e76zbnsDn21mYJKk1XikqSRVhoEtSRRjoklQRBrokVYSBLkkVYaBLUkUY6JJUEQa6JFWEgS5JFWGgS1JFGOiSVBEGuiRVhIEuSRVhoEtSRRjoklQRBrokVYSBLkkVYaBLUkU0DfSIuDgi9kTEcxGxPyJ+v8GYmyPiZEQ8Wzy+1JlyJUkTKfOdou8An87M0xGxFPhRRDyWmU+NG/dkZt7W/hIlSWU0DfTiC6BPFy+XFo/sZFGSpNaVWkOPiMUR8SzwBvD9zHy6wbCbimWZxyLiI+0sUpLUXKlAz8xzmXktsBG4ISI+Om7IM8CHM/Ma4I+B7zZ6n4jYERF7I2Lv8ePHp161JOkCLZ3lkpk/Bx4Hbhm3fTgzTxfPdwNLI2Jdg5/flZkDmTnQ3d095aIlSRcqc5ZLd0SsKZ4vBz4DDI4b0xMRUTy/oXjfN9terSRpQmXOcukF/jQiFlML6j/LzO9FxD0AmbkTuAP4XESMAG8DdxbNVEnSDClzlsvzwHUNtu+se34fcF97S5MktcIrRSWpIgx0SaoIA12SKsJAl6SKMNAlqSIMdEmqCANdkirCQJekijDQJakiDHRJqggDXZIqwkCXpIow0CWpIgx0SaoIA12SKsJAl6SKMNAlqSIMdEmqCANdkiqiaaBHxMURsScinouI/RHx+w3GRER8NSIORcTzEXF9Z8qVJE2kzBH6O8CnM/Ma4Frgloi4cdyYW4EtxWMHcH87i/xAMSPnePvdc516e0mat5Y0G5CZCZwuXi4tHjlu2O3Ag8XYpyJiTUT0ZuZQW6sFnnj5BDv++142X7qCrT1d9Pesor+3i/6eLjatvYRFi6LdHylJ80LTQAeIiMXAPuBK4GuZ+fS4IRuA1+teHy62fSDQI2IHtSN4+vr6plTw5nWXcO+vbmFw6BQHhob5y/1HyeKfl0uWLT4f8j1dxWMVqy9ZOqXPkqT5pFSgZ+Y54NqIWAP8z4j4aGa+WDek0WHx+KN4MnMXsAtgYGDggv1lXHlZF7/9ma6x12ffHeHlY6cZHBpm8OgpBo8O89iLQzy057WxMR9afXEt6HtXjYX8L3evYOlie8KSqqNUoI/KzJ9HxOPALUB9oB8GNtW93ggcmXZ1JVyybAnXblrDtZvWjG3LTI4Nv8OBo8McPHpqLOx/dOgE752r/TuydHFw5WVdbOvpGgv7bT1ddHddRITLNpLmn6aBHhHdwHtFmC8HPgP8wbhhjwJfiIiHgY8DJzuxfl5WRNCz+mJ6Vl/Mp7ZeNrb93ZH3efXE6dpyTRH2P37lTR75m/83NmbtJUvH1uW39axia08XV63vYvmyxbMxFUkqrcwRei/wp8U6+iLgzzLzexFxD0Bm7gR2A9uBQ8BZ4O4O1Tsty5YsKtbXV/FP2TC2/edn360t1xRH8geOnuLhPa/z9nu1s2kiYPOlK+jv7WLr+vNhv3HtcpuwkuaMyJzSUva0DQwM5N69e2fls8t4//3ktbfOMni0WJsfqq3P//Stsw2bsNt6u9i63iaspM6KiH2ZOdBwn4HemkZN2ANDpzj59ntjY8Y3Ybf1rmLzOpuwkqZvskBvqSmqqTdhly1exBWXrbQJK6ljDPQ2mE4T9pdWLKst1RTr8v29XWy5zCaspNYZ6B00URP2Z2dqTdiDR23CSmofA30WrF2xjJuuuJSbrrh0bFt9E/bA0CkOHj3FS0eGeezF81fCrli2mKtswkqagE3ROW58E/ZA8ef4Jmx/76rijBubsFKV2RSdx5o1YQeHzi/dPPHycUbev7AJ29/bxdYem7BS1Rno81DZJuzgkE1YaSEx0CukWRN2sDjTxiasVE0G+gJQpgk7eHS4aRO2v7i3zerlNmGlucimqD7gzDsjvHysdpaNTVhp7rEpqtJWXLSE6/rWcl3f2rFtU2nCjn7JiE1YaeYY6GpqsibsK8dPF+vyEzdh+4vbHdiElTrLQNeULVuyiG29q9jWO/Um7Oi6vE1YafoMdLXddJqwW3uKc+ZtwkotsymqWTXahK3d22byJuzY0o1NWC1gNkU1Z5Vpwo4u3diElSZnoGvOaaUJ+9evnGjYhB0NeJuwWkjKfEn0JuBBoAd4H9iVmV8ZN+Zm4C+Avy02PZKZ/7GtlWrBa6UJ+9Ce18aasIsCLq9rwo4Gvk1YVU2ZI/QR4Hcy85mI6AL2RcT3M/OlceOezMzb2l+iNLlGTdhzRRP2YF0Tdr9NWFVc00DPzCFgqHh+KiIOABuA8YEuzRmLFwWb161g87oV3PLR3rHtjZqwu18Y4qE9r42NsQmr+aqlNfSIuBy4Dni6we6bIuI54Ajw7zJzf4Of3wHsAOjr62u5WGm6JmrCHh3+RW3ZZpIm7JWXrRxbl+8vLpLqXmkTVnNH6dMWI2Il8EPgP2fmI+P2rQLez8zTEbEd+Epmbpns/TxtUXPdaBN2sLjVwWjYHxt+Z2yMTVjNtGmfthgRS4HvAN8aH+YAmTlc93x3RHw9ItZl5ompFi3NtvombL36Juzg0CkGjzVowq5b8cGgtwmrGVDmLJcA/gQ4kJl/OMGYHuBYZmZE3AAsAt5sa6XSHDFZE3b0qwJHm7C7Xzg6Nma0CTu6Pm8TVu3WdMklIn4FeBJ4gdppiwBfBPoAMnNnRHwB+By1M2LeBv5tZv54svd1yUULQX0T9nzYT3wl7OifNmE1kcmWXLz0X5phjZqwg0OneOX46QubsL1d55dubMIKL/2X5pSIoHf1cnpXL294JezY2vzRU/z1oRM88swEV8IWYX/V+i4uXmoTVga6NGd8oAl73fntFzRhjw7z7T0/5Rfv1VZAGzVht/WuYsMam7ALjYEuzXE2YVWWa+hShZRpwm5Ys3zs+2D7e1exrWjCLrEJOy+4hi4tEJNeCVusy48u3TS8EtYm7LxmoEsV94EmbH9rTdhLVywrjuZtws4HBrq0QE23CbutWJO3CTt3GOiSPqBZE/bA0VMcPDrMi0dO8r9fGBobU9+E3Vbcltgm7MyyKSppys68M8LBY7VbEZ8P+wubsKO3IrYJO302RSV1xIqLlnB931qun6AJe6C4FfHg0Cl+OEETdmzpxibstBnoktpqoibsOyPnePX4mbG1+QMlmrDbelaxZf1Km7AlGeiSZsRFSxY3bMK+debdsS8VsQk7PQa6pFn1SyuW8Ykr1vGJK9aNbSvThF150RKuWr9ybF2+v7cW+KsuXrhNWJuikuaNRk3YwaFhhn8xMjam6k1Ym6KSKmHKTdgli7iyu/pNWANd0rw2WRP2lTfOcPDY5E3Y/t4utq6vRhPWQJdUSRctWczVH1rF1R9q3IQdHCqWbiZpwo4u3cyXJqyBLmlBKdOEHRyan03YMt8pugl4EOih9p2iuzLzK+PGBPAVYDtwFvgXmfnMZO9rU1TSXNdKE7a/t3a7g043YafbFB0Bficzn4mILmBfRHw/M1+qG3MrsKV4fBy4v/hTkuatMk3Y0aWbyZqwtbDvfBO2aaBn5hAwVDw/FREHgA1AfaDfDjyYtcP9pyJiTUT0Fj8rSZXRShP2R/+3cRP2jo9t5Nev29j22lpaQ4+Iy6m1F54et2sD8Hrd68PFtg8EekTsAHYA9PX1tViqJM1drTRhf3bmvYnfaBpKB3pErAS+A/x2Zg6P393gRy5YnM/MXcAuqK2ht1CnJM1LjZqwnVJq1T4illIL829l5iMNhhwGNtW93ggcmX55kqSymgZ6cQbLnwAHMvMPJxj2KHBX1NwInHT9XJJmVpkll08CvwW8EBHPFtu+CPQBZOZOYDe1UxYPUTtt8e62VypJmlSZs1x+ROM18voxCXy+XUVJklpXjduPSZIMdEmqCgNdkirCQJekijDQJakiDHRJqggDXZIqwkCXpIow0CWpIgx0SaoIA12SKsJAl6SKMNAlqSIMdEmqCANdkirCQJekijDQJakiDHRJqogyXxL9QES8EREvTrD/5og4GRHPFo8vtb9MSVIzZb4k+pvAfcCDk4x5MjNva0tFkqQpaXqEnplPAG/NQC2SpGlo1xr6TRHxXEQ8FhEfmWhQROyIiL0Rsff48eNt+mhJErQn0J8BPpyZ1wB/DHx3ooGZuSszBzJzoLu7uw0fLUkaNe1Az8zhzDxdPN8NLI2IddOuTJLUkmkHekT0REQUz28o3vPN6b6vJKk1Tc9yiYiHgJuBdRFxGPgysBQgM3cCdwCfi4gR4G3gzszMjlUsSWqoaaBn5meb7L+P2mmNkqRZ5JWiklQRBrokVYSBLkkVYaBLUkUY6JJUEQa6JFWEgS5JFWGgS1JFGOiSVBEGuiRVhIEuSRVhoEtSRRjoklQRBrokVYSBLkkVYaBLUkUY6JJUEQa6JFVE00CPiAci4o2IeHGC/RERX42IQxHxfERc3/4yJUnNlDlC/yZwyyT7bwW2FI8dwP3TL0uS1KqmgZ6ZTwBvTTLkduDBrHkKWBMRve0qUJJUTjvW0DcAr9e9Plxsu0BE7IiIvRGx9/jx4234aEnSqHYEejTYlo0GZuauzBzIzIHu7u42fLQkaVQ7Av0wsKnu9UbgSBveV5LUgnYE+qPAXcXZLjcCJzNzqA3vK0lqwZJmAyLiIeBmYF1EHAa+DCwFyMydwG5gO3AIOAvc3aliJUkTaxromfnZJvsT+HzbKpIkTYlXikpSRRjoklQRBrokVYSBLkkVYaBLUkUY6JJUEQa6JFWEgS5JFWGgS1JFGOiSVBEGuiRVhIEuSRVhoEtSRRjoklQRBrokVYSBLkkVYaBLUkUY6JJUEaUCPSJuiYiDEXEoIn6vwf6bI+JkRDxbPL7U/lIlSZMp8yXRi4GvAf8IOAz8JCIezcyXxg19MjNv60CNkqQSyhyh3wAcysxXM/Nd4GHg9s6WJUlqVZlA3wC8Xvf6cLFtvJsi4rmIeCwiPtKW6iRJpTVdcgGiwbYc9/oZ4MOZeToitgPfBbZc8EYRO4AdAH19fa1VKkmaVJkj9MPAprrXG4Ej9QMyczgzTxfPdwNLI2Ld+DfKzF2ZOZCZA93d3dMoW5I0XplA/wmwJSI2R8Qy4E7g0foBEdETEVE8v6F43zfbXawkaWJNl1wycyQivgD8FbAYeCAz90fEPcX+ncAdwOciYgR4G7gzM8cvy0iSOihmK3cHBgZy7969s/LZkjRfRcS+zBxotM8rRSWpIgx0SaoIA12SKsJAl6SKMNAlqSIMdEmqCANdkirCQJekijDQJakiDHRJqggDXZIqwkCXpIow0CWpIgx0SaoIA12SKsJAl6SKMNAlqSIMdEmqCANdkiqiVKBHxC0RcTAiDkXE7zXYHxHx1WL/8xFxfftLlSRNpmmgR8Ri4GvArcDVwGcj4upxw24FthSPHcD9ba5TktREmSP0G4BDmflqZr4LPAzcPm7M7cCDWfMUsCYiettcqyRpEktKjNkAvF73+jDw8RJjNgBD9YMiYge1I3iA0xFxsKVqz1sHnJjiz85XznlhcM4Lw3Tm/OGJdpQJ9GiwLacwhszcBewq8ZmTFxSxNzMHpvs+84lzXhic88LQqTmXWXI5DGyqe70RODKFMZKkDioT6D8BtkTE5ohYBtwJPDpuzKPAXcXZLjcCJzNzaPwbSZI6p+mSS2aORMQXgL8CFgMPZOb+iLin2L8T2A1sBw4BZ4G7O1cy0IZlm3nIOS8Mznlh6MicI/OCpW5J0jzklaKSVBEGuiRVxJwO9IV4y4ESc/7NYq7PR8SPI+Ka2aiznZrNuW7c34+IcxFxx0zW1wll5hwRN0fEsxGxPyJ+ONM1tluJv9urI+J/RcRzxZw73YvrqIh4ICLeiIgXJ9jf/vzKzDn5oNaAfQX4ZWAZ8Bxw9bgx24HHqJ0HfyPw9GzXPQNz/gSwtnh+60KYc924H1BrwN8x23XPwO95DfAS0Fe8vmy2656BOX8R+IPieTfwFrBstmufxpz/IXA98OIE+9ueX3P5CH0h3nKg6Zwz88eZ+bPi5VPUzvmfz8r8ngH+DfAd4I2ZLK5Dysz5N4BHMvM1gMyc7/MuM+cEuiIigJXUAn1kZstsn8x8gtocJtL2/JrLgT7R7QRaHTOftDqff0ntX/j5rOmcI2ID8OvAzhmsq5PK/J6vAtZGxOMRsS8i7pqx6jqjzJzvA7ZRuyjxBeDezHx/ZsqbFW3PrzKX/s+Wtt1yYB4pPZ+I+BS1QP+VjlbUeWXm/EfA72bmudrB27xXZs5LgI8BvwosB/5PRDyVmS93urgOKTPnXwOeBT4NXAF8PyKezMzhDtc2W9qeX3M50BfiLQdKzSci/h7wDeDWzHxzhmrrlDJzHgAeLsJ8HbA9IkYy87szUmH7lf27fSIzzwBnIuIJ4BpgvgZ6mTnfDfzXrC0wH4qIvwX6gT0zU+KMa3t+zeUll4V4y4Gmc46IPuAR4Lfm8dFavaZzzszNmXl5Zl4O/Dnwr+dxmEO5v9t/AfyDiFgSEZdQu8PpgRmus53KzPk1av8jISLWA1uBV2e0ypnV9vyas0foOTdvOdBRJef8JeBS4OvFEetIzuM71ZWcc6WUmXNmHoiIvwSeB94HvpGZDU9/mw9K/p7/E/DNiHiB2nLE72bmvL2tbkQ8BNwMrIuIw8CXgaXQufzy0n9Jqoi5vOQiSWqBgS5JFWGgS1JFGOiSVBEGuiRVhIEuSRVhoEtSRfx/VMfxXEwg/ucAAAAASUVORK5CYII=\n",
          "text/plain": "<Figure size 432x288 with 1 Axes>"
         },
         "metadata": {
          "needs_background": "light"
         },
         "output_type": "display_data"
        }
       ]
      }
     },
     "dec10c3621a641c08ca748fa1f07edc3": {
      "model_module": "@jupyter-widgets/base",
      "model_module_version": "1.2.0",
      "model_name": "LayoutModel",
      "state": {}
     },
     "deea57801819445da58004a8d8e3baf9": {
      "model_module": "@jupyter-widgets/output",
      "model_module_version": "1.0.0",
      "model_name": "OutputModel",
      "state": {
       "_dom_classes": [
        "output_scroll_disabled"
       ],
       "err_stop": true,
       "layout": "IPY_MODEL_ee576120a3c1436ea39dbb41ccd60934",
       "outputs": [
        {
         "data": {
          "image/png": "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\n",
          "text/plain": "<Figure size 432x288 with 1 Axes>"
         },
         "metadata": {
          "needs_background": "light"
         },
         "output_type": "display_data"
        }
       ]
      }
     },
     "e13c52802a454ef8ac66bdb58a5b8028": {
      "model_module": "@jupyter-widgets/base",
      "model_module_version": "1.2.0",
      "model_name": "LayoutModel",
      "state": {}
     },
     "e5354334a90a4ac0b1937c5f19681cfb": {
      "model_module": "@jupyter-widgets/output",
      "model_module_version": "1.0.0",
      "model_name": "OutputModel",
      "state": {
       "_dom_classes": [
        "output_scroll_disabled"
       ],
       "err_stop": true,
       "layout": "IPY_MODEL_024fa8cbe21d401fb362d34ef6769fa5",
       "outputs": [
        {
         "data": {
          "image/png": "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\n",
          "text/plain": "<Figure size 432x288 with 1 Axes>"
         },
         "metadata": {
          "needs_background": "light"
         },
         "output_type": "display_data"
        }
       ]
      }
     },
     "e5d33fffe79f4f77aa9714b432b5607a": {
      "model_module": "@jupyter-widgets/output",
      "model_module_version": "1.0.0",
      "model_name": "OutputModel",
      "state": {
       "_dom_classes": [
        "output_scroll_disabled"
       ],
       "err_stop": true,
       "layout": "IPY_MODEL_024fa8cbe21d401fb362d34ef6769fa5",
       "outputs": [
        {
         "data": {
          "image/png": "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\n",
          "text/plain": "<Figure size 432x288 with 1 Axes>"
         },
         "metadata": {
          "needs_background": "light"
         },
         "output_type": "display_data"
        }
       ]
      }
     },
     "e82df362e1f441fab72bac7ee0769a69": {
      "model_module": "@jupyter-widgets/output",
      "model_module_version": "1.0.0",
      "model_name": "OutputModel",
      "state": {
       "_dom_classes": [
        "output_scroll_disabled"
       ],
       "err_stop": true,
       "layout": "IPY_MODEL_024fa8cbe21d401fb362d34ef6769fa5",
       "outputs": [
        {
         "data": {
          "image/png": "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\n",
          "text/plain": "<Figure size 432x288 with 1 Axes>"
         },
         "metadata": {
          "needs_background": "light"
         },
         "output_type": "display_data"
        }
       ]
      }
     },
     "ee576120a3c1436ea39dbb41ccd60934": {
      "model_module": "@jupyter-widgets/base",
      "model_module_version": "1.2.0",
      "model_name": "LayoutModel",
      "state": {}
     },
     "ef4f075ae184451e91a37b0d74dcb486": {
      "model_module": "@jupyter-widgets/controls",
      "model_module_version": "1.5.0",
      "model_name": "BoxModel",
      "state": {}
     },
     "f4a7bad368404f5a88f267cbaab172eb": {
      "model_module": "@jupyter-widgets/controls",
      "model_module_version": "1.5.0",
      "model_name": "BoxModel",
      "state": {
       "children": [
        "IPY_MODEL_0c149509dc2e4849a809eeac6d4c9cd7",
        "IPY_MODEL_63c1e88013b145ab953ad8ce3dd98a27",
        "IPY_MODEL_9028408e89154ccaaa089f207e7bf1f3",
        "IPY_MODEL_5f6bd17f09be48809bc9588b1833ddfe",
        "IPY_MODEL_a45d3434717e429a87790d99219fb53d",
        "IPY_MODEL_ff59bc8f50524e74826a5f411b82c69f"
       ]
      }
     },
     "f6151d49d7c54d9d870e217c8a868e39": {
      "model_module": "@jupyter-widgets/output",
      "model_module_version": "1.0.0",
      "model_name": "OutputModel",
      "state": {
       "_dom_classes": [
        "output_scroll_disabled"
       ],
       "err_stop": true,
       "layout": "IPY_MODEL_044c0d589f824924baa5b3f2725333a1",
       "outputs": [
        {
         "data": {
          "image/png": "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\n",
          "text/plain": "<Figure size 432x288 with 1 Axes>"
         },
         "metadata": {
          "needs_background": "light"
         },
         "output_type": "display_data"
        }
       ]
      }
     },
     "f6dc7a519b7346babd4c6a269e252fc2": {
      "model_module": "@jupyter-widgets/output",
      "model_module_version": "1.0.0",
      "model_name": "OutputModel",
      "state": {
       "_dom_classes": [
        "output_scroll_disabled"
       ],
       "err_stop": true,
       "layout": "IPY_MODEL_e13c52802a454ef8ac66bdb58a5b8028",
       "outputs": [
        {
         "data": {
          "text/html": "<h1>Accordion</h1>",
          "text/plain": "<IPython.core.display.HTML object>"
         },
         "metadata": {},
         "output_type": "display_data"
        }
       ]
      }
     },
     "fe26b3a121904e6e8f71e256e07adf8d": {
      "model_module": "@jupyter-widgets/base",
      "model_module_version": "1.2.0",
      "model_name": "LayoutModel",
      "state": {}
     },
     "ff59bc8f50524e74826a5f411b82c69f": {
      "model_module": "@jupyter-widgets/output",
      "model_module_version": "1.0.0",
      "model_name": "OutputModel",
      "state": {
       "_dom_classes": [
        "output_scroll_disabled"
       ],
       "err_stop": true,
       "layout": "IPY_MODEL_3ad14e7f62e645d99339ab35e84537a3",
       "outputs": [
        {
         "data": {
          "image/png": "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\n",
          "text/plain": "<Figure size 432x288 with 1 Axes>"
         },
         "metadata": {
          "needs_background": "light"
         },
         "output_type": "display_data"
        }
       ]
      }
     },
     "ff666c1f85d44d988bb760548e2b1476": {
      "model_module": "@jupyter-widgets/output",
      "model_module_version": "1.0.0",
      "model_name": "OutputModel",
      "state": {
       "_dom_classes": [
        "output_scroll_disabled"
       ],
       "err_stop": true,
       "layout": "IPY_MODEL_afbef2245cd2443f9c833f9b79578ba8",
       "outputs": [
        {
         "data": {
          "image/png": "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\n",
          "text/plain": "<Figure size 432x288 with 1 Axes>"
         },
         "metadata": {
          "needs_background": "light"
         },
         "output_type": "display_data"
        }
       ]
      }
     },
     "fff044ba13a2470f807d5f063c428fec": {
      "model_module": "@jupyter-widgets/base",
      "model_module_version": "1.2.0",
      "model_name": "LayoutModel",
      "state": {}
     }
    },
    "version_major": 2,
    "version_minor": 0
   }
  }
 },
 "nbformat": 4,
 "nbformat_minor": 4
}
